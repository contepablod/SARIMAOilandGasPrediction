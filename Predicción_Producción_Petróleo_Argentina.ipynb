{
  "cells": [
    {
      "cell_type": "markdown",
      "metadata": {
        "colab_type": "text",
        "id": "view-in-github"
      },
      "source": [
        "<a href=\"https://colab.research.google.com/github/AnIsAsPe/Prediccion-produccion-electricidad/blob/main/notebooks/Predicci%C3%B3n_producci%C3%B3n_electricidad_Feb22.ipynb\" target=\"_parent\"><img src=\"https://colab.research.google.com/assets/colab-badge.svg\" alt=\"Open In Colab\"/></a>"
      ]
    },
    {
      "cell_type": "markdown",
      "metadata": {
        "id": "nzALsQAaO9Tt"
      },
      "source": [
        "# Bibliotecas"
      ]
    },
    {
      "cell_type": "code",
      "execution_count": 2,
      "metadata": {
        "id": "kFM6JqBA8Ryg"
      },
      "outputs": [],
      "source": [
        "#import math\n",
        "\n",
        "import numpy as np\n",
        "import pandas as pd\n",
        "\n",
        "import itertools\n",
        "\n",
        "from statsmodels.tsa.seasonal import seasonal_decompose\n",
        "from statsmodels.graphics.tsaplots import plot_acf, plot_pacf\n",
        "from statsmodels.tsa.stattools import adfuller\n",
        "from statsmodels.tsa.arima_model import ARIMA\n",
        "from statsmodels.tsa.statespace.sarimax import SARIMAX\n",
        "\n",
        "from sklearn.metrics import mean_squared_error\n",
        "\n",
        "import matplotlib.pyplot as plt\n"
      ]
    },
    {
      "cell_type": "markdown",
      "metadata": {
        "id": "Ebv5ew9fQPLu"
      },
      "source": [
        "# Funciones"
      ]
    },
    {
      "cell_type": "code",
      "execution_count": 3,
      "metadata": {
        "id": "s8UHjR1GQRD7"
      },
      "outputs": [],
      "source": [
        "def p_value_adfuller(data):\n",
        "        fuller_test = adfuller(data)\n",
        "        print('P-value: ',fuller_test[1])\n",
        "        if fuller_test[1] <= 0.05:\n",
        "            print('Se rechaza la hipótesis nula, los datos son estacionarios')\n",
        "        else:\n",
        "            print('No se rechaza la hipóteis nula, los datos no son estacionarios')\n"
      ]
    },
    {
      "cell_type": "markdown",
      "metadata": {
        "id": "jma6lnOdO7A0"
      },
      "source": [
        "# Lectura de datos"
      ]
    },
    {
      "cell_type": "code",
      "execution_count": 4,
      "metadata": {
        "colab": {
          "base_uri": "https://localhost:8080/",
          "height": 455
        },
        "id": "LjStJ7v58jE2",
        "outputId": "1f18a2e0-5115-4bb0-8ed3-172c156cd436"
      },
      "outputs": [
        {
          "data": {
            "text/html": [
              "<div>\n",
              "<style scoped>\n",
              "    .dataframe tbody tr th:only-of-type {\n",
              "        vertical-align: middle;\n",
              "    }\n",
              "\n",
              "    .dataframe tbody tr th {\n",
              "        vertical-align: top;\n",
              "    }\n",
              "\n",
              "    .dataframe thead th {\n",
              "        text-align: right;\n",
              "    }\n",
              "</style>\n",
              "<table border=\"1\" class=\"dataframe\">\n",
              "  <thead>\n",
              "    <tr style=\"text-align: right;\">\n",
              "      <th></th>\n",
              "      <th>Date</th>\n",
              "      <th>TotalPet</th>\n",
              "      <th>TotalGas</th>\n",
              "    </tr>\n",
              "  </thead>\n",
              "  <tbody>\n",
              "    <tr>\n",
              "      <th>0</th>\n",
              "      <td>1/1/2009</td>\n",
              "      <td>97924.5991</td>\n",
              "      <td>135493.2462</td>\n",
              "    </tr>\n",
              "    <tr>\n",
              "      <th>1</th>\n",
              "      <td>2/1/2009</td>\n",
              "      <td>100044.0659</td>\n",
              "      <td>119567.3700</td>\n",
              "    </tr>\n",
              "    <tr>\n",
              "      <th>2</th>\n",
              "      <td>3/1/2009</td>\n",
              "      <td>99329.5204</td>\n",
              "      <td>132671.8891</td>\n",
              "    </tr>\n",
              "    <tr>\n",
              "      <th>3</th>\n",
              "      <td>4/1/2009</td>\n",
              "      <td>98880.3859</td>\n",
              "      <td>116012.7545</td>\n",
              "    </tr>\n",
              "    <tr>\n",
              "      <th>4</th>\n",
              "      <td>5/1/2009</td>\n",
              "      <td>98151.9991</td>\n",
              "      <td>108534.5693</td>\n",
              "    </tr>\n",
              "    <tr>\n",
              "      <th>...</th>\n",
              "      <td>...</td>\n",
              "      <td>...</td>\n",
              "      <td>...</td>\n",
              "    </tr>\n",
              "    <tr>\n",
              "      <th>158</th>\n",
              "      <td>3/1/2022</td>\n",
              "      <td>89459.4248</td>\n",
              "      <td>144416.8986</td>\n",
              "    </tr>\n",
              "    <tr>\n",
              "      <th>159</th>\n",
              "      <td>4/1/2022</td>\n",
              "      <td>90490.6676</td>\n",
              "      <td>124820.8609</td>\n",
              "    </tr>\n",
              "    <tr>\n",
              "      <th>160</th>\n",
              "      <td>5/1/2022</td>\n",
              "      <td>91589.1089</td>\n",
              "      <td>117977.1775</td>\n",
              "    </tr>\n",
              "    <tr>\n",
              "      <th>161</th>\n",
              "      <td>6/1/2022</td>\n",
              "      <td>91155.8765</td>\n",
              "      <td>121233.9448</td>\n",
              "    </tr>\n",
              "    <tr>\n",
              "      <th>162</th>\n",
              "      <td>7/1/2022</td>\n",
              "      <td>91865.7757</td>\n",
              "      <td>139459.2988</td>\n",
              "    </tr>\n",
              "  </tbody>\n",
              "</table>\n",
              "<p>163 rows × 3 columns</p>\n",
              "</div>"
            ],
            "text/plain": [
              "         Date     TotalPet     TotalGas\n",
              "0    1/1/2009   97924.5991  135493.2462\n",
              "1    2/1/2009  100044.0659  119567.3700\n",
              "2    3/1/2009   99329.5204  132671.8891\n",
              "3    4/1/2009   98880.3859  116012.7545\n",
              "4    5/1/2009   98151.9991  108534.5693\n",
              "..        ...          ...          ...\n",
              "158  3/1/2022   89459.4248  144416.8986\n",
              "159  4/1/2022   90490.6676  124820.8609\n",
              "160  5/1/2022   91589.1089  117977.1775\n",
              "161  6/1/2022   91155.8765  121233.9448\n",
              "162  7/1/2022   91865.7757  139459.2988\n",
              "\n",
              "[163 rows x 3 columns]"
            ]
          },
          "execution_count": 4,
          "metadata": {},
          "output_type": "execute_result"
        }
      ],
      "source": [
        "file = 'C:\\\\Users\\\\conte\\\\OneDrive\\\\Escritorio\\\\Colegio Bourbaki\\\\SeriesTiempo\\\\Prediccion-produccion-electricidad-main\\\\Datos\\\\TD_S_SescoWebUP_07_2022.csv'\n",
        "datos = pd.read_csv(file)\n",
        "datos\n"
      ]
    },
    {
      "cell_type": "code",
      "execution_count": 5,
      "metadata": {},
      "outputs": [],
      "source": [
        "datos[\"Date\"] = pd.to_datetime(datos[\"Date\"])\n",
        "\n",
        "datos = datos.set_index('Date')\n"
      ]
    },
    {
      "cell_type": "code",
      "execution_count": 6,
      "metadata": {},
      "outputs": [
        {
          "data": {
            "text/html": [
              "<div>\n",
              "<style scoped>\n",
              "    .dataframe tbody tr th:only-of-type {\n",
              "        vertical-align: middle;\n",
              "    }\n",
              "\n",
              "    .dataframe tbody tr th {\n",
              "        vertical-align: top;\n",
              "    }\n",
              "\n",
              "    .dataframe thead th {\n",
              "        text-align: right;\n",
              "    }\n",
              "</style>\n",
              "<table border=\"1\" class=\"dataframe\">\n",
              "  <thead>\n",
              "    <tr style=\"text-align: right;\">\n",
              "      <th></th>\n",
              "      <th>TotalPet</th>\n",
              "      <th>TotalGas</th>\n",
              "    </tr>\n",
              "  </thead>\n",
              "  <tbody>\n",
              "    <tr>\n",
              "      <th>count</th>\n",
              "      <td>163.000000</td>\n",
              "      <td>163.000000</td>\n",
              "    </tr>\n",
              "    <tr>\n",
              "      <th>mean</th>\n",
              "      <td>84443.916705</td>\n",
              "      <td>123918.355905</td>\n",
              "    </tr>\n",
              "    <tr>\n",
              "      <th>std</th>\n",
              "      <td>6495.752824</td>\n",
              "      <td>7495.472834</td>\n",
              "    </tr>\n",
              "    <tr>\n",
              "      <th>min</th>\n",
              "      <td>71163.538400</td>\n",
              "      <td>105860.819600</td>\n",
              "    </tr>\n",
              "    <tr>\n",
              "      <th>25%</th>\n",
              "      <td>79468.451400</td>\n",
              "      <td>117651.243200</td>\n",
              "    </tr>\n",
              "    <tr>\n",
              "      <th>50%</th>\n",
              "      <td>84406.510100</td>\n",
              "      <td>123464.276900</td>\n",
              "    </tr>\n",
              "    <tr>\n",
              "      <th>75%</th>\n",
              "      <td>88486.056450</td>\n",
              "      <td>128298.842800</td>\n",
              "    </tr>\n",
              "    <tr>\n",
              "      <th>max</th>\n",
              "      <td>100044.065900</td>\n",
              "      <td>144420.969600</td>\n",
              "    </tr>\n",
              "  </tbody>\n",
              "</table>\n",
              "</div>"
            ],
            "text/plain": [
              "            TotalPet       TotalGas\n",
              "count     163.000000     163.000000\n",
              "mean    84443.916705  123918.355905\n",
              "std      6495.752824    7495.472834\n",
              "min     71163.538400  105860.819600\n",
              "25%     79468.451400  117651.243200\n",
              "50%     84406.510100  123464.276900\n",
              "75%     88486.056450  128298.842800\n",
              "max    100044.065900  144420.969600"
            ]
          },
          "execution_count": 6,
          "metadata": {},
          "output_type": "execute_result"
        }
      ],
      "source": [
        "datos.round(3)\n",
        "datos.describe()"
      ]
    },
    {
      "cell_type": "code",
      "execution_count": 7,
      "metadata": {
        "colab": {
          "base_uri": "https://localhost:8080/"
        },
        "id": "Wy-QcLvbDS3s",
        "outputId": "f7c83012-f20c-4293-a384-97b3ae09ddfd"
      },
      "outputs": [
        {
          "data": {
            "text/plain": [
              "True"
            ]
          },
          "execution_count": 7,
          "metadata": {},
          "output_type": "execute_result"
        }
      ],
      "source": [
        "# revisamos si las fechas están ordenads\n",
        "datos.index.is_monotonic"
      ]
    },
    {
      "cell_type": "code",
      "execution_count": 8,
      "metadata": {
        "colab": {
          "base_uri": "https://localhost:8080/"
        },
        "id": "R8dlp-aieR5F",
        "outputId": "2a22e8bc-706d-4939-ea68-4bb771a862f7"
      },
      "outputs": [
        {
          "data": {
            "text/plain": [
              "DatetimeIndex(['2009-01-01', '2009-02-01', '2009-03-01', '2009-04-01',\n",
              "               '2009-05-01', '2009-06-01', '2009-07-01', '2009-08-01',\n",
              "               '2009-09-01', '2009-10-01',\n",
              "               ...\n",
              "               '2021-10-01', '2021-11-01', '2021-12-01', '2022-01-01',\n",
              "               '2022-02-01', '2022-03-01', '2022-04-01', '2022-05-01',\n",
              "               '2022-06-01', '2022-07-01'],\n",
              "              dtype='datetime64[ns]', name='Date', length=163, freq=None)"
            ]
          },
          "execution_count": 8,
          "metadata": {},
          "output_type": "execute_result"
        }
      ],
      "source": [
        "datos.index"
      ]
    },
    {
      "cell_type": "code",
      "execution_count": 9,
      "metadata": {
        "colab": {
          "base_uri": "https://localhost:8080/"
        },
        "id": "cD-hYPFgg59j",
        "outputId": "4d904ade-eca8-441c-b4d9-e882efacb267"
      },
      "outputs": [
        {
          "data": {
            "text/plain": [
              "DatetimeIndex(['2009-01-01', '2009-02-01', '2009-03-01', '2009-04-01',\n",
              "               '2009-05-01', '2009-06-01', '2009-07-01', '2009-08-01',\n",
              "               '2009-09-01', '2009-10-01',\n",
              "               ...\n",
              "               '2021-10-01', '2021-11-01', '2021-12-01', '2022-01-01',\n",
              "               '2022-02-01', '2022-03-01', '2022-04-01', '2022-05-01',\n",
              "               '2022-06-01', '2022-07-01'],\n",
              "              dtype='datetime64[ns]', name='Date', length=163, freq='MS')"
            ]
          },
          "execution_count": 9,
          "metadata": {},
          "output_type": "execute_result"
        }
      ],
      "source": [
        "# para algunas funciones de ST es importante indicar la frecuencia de nuestros datos\n",
        "datos.index.freq = datos.index.inferred_freq\n",
        "datos.index"
      ]
    },
    {
      "cell_type": "markdown",
      "metadata": {
        "id": "lKZ15WzUfO78"
      },
      "source": [
        "Para más información de las frecuencias en pandas consultar el apartado DateOffset objects en [este enlace](https://pandas.pydata.org/pandas-docs/stable/user_guide/timeseries.html)"
      ]
    },
    {
      "cell_type": "markdown",
      "metadata": {
        "id": "yUstT4cAN-Qb"
      },
      "source": [
        "# Exploración y Visualización de la Serie Temporal"
      ]
    },
    {
      "cell_type": "code",
      "execution_count": 75,
      "metadata": {
        "colab": {
          "base_uri": "https://localhost:8080/",
          "height": 295
        },
        "id": "-WsRIdhJE5yB",
        "outputId": "33e2ceb8-4d4f-4dc5-bda6-154a0d0b5e33"
      },
      "outputs": [
        {
          "data": {
            "image/png": "[encoded data removed]",
            "text/plain": [
              "<Figure size 720x288 with 1 Axes>"
            ]
          },
          "metadata": {
            "needs_background": "light"
          },
          "output_type": "display_data"
        }
      ],
      "source": [
        "datos['TotalPet'].plot(figsize=(10,4), title='Producción Petroleo Diaria Promedio Argentina', color='green')\n",
        "plt.show()"
      ]
    },
    {
      "cell_type": "code",
      "execution_count": 76,
      "metadata": {
        "colab": {
          "base_uri": "https://localhost:8080/",
          "height": 279
        },
        "id": "4iGMqVR4IEp-",
        "outputId": "f7f60b5e-0c42-4946-f40b-adc16c691128"
      },
      "outputs": [
        {
          "data": {
            "image/png": "[encoded data removed]",
            "text/plain": [
              "<Figure size 720x288 with 1 Axes>"
            ]
          },
          "metadata": {
            "needs_background": "light"
          },
          "output_type": "display_data"
        }
      ],
      "source": [
        "datos['TotalPet'].rolling(12).mean().plot(figsize=(10,4),label='Media Móvil c/12 meses')\n",
        "datos['TotalPet'].plot(color='green')\n",
        "plt.legend()\n",
        "plt.show()"
      ]
    },
    {
      "cell_type": "markdown",
      "metadata": {
        "id": "eKxoaFVMY1g3"
      },
      "source": [
        "La funcion seasonal_decompose() de statsmodels, descompone la serie en tres partes: tendencia, estacionalidad y residuos."
      ]
    },
    {
      "cell_type": "code",
      "execution_count": 12,
      "metadata": {
        "colab": {
          "base_uri": "https://localhost:8080/",
          "height": 473
        },
        "id": "pGsgQGJkKUcv",
        "outputId": "9f38c8c7-c9f7-4ee4-e82c-cf2b0fe3ebec"
      },
      "outputs": [
        {
          "data": {
            "image/png": "[encoded data removed]",
            "text/plain": [
              "<Figure size 720x504 with 4 Axes>"
            ]
          },
          "metadata": {
            "needs_background": "light"
          },
          "output_type": "display_data"
        }
      ],
      "source": [
        "decomp = seasonal_decompose(datos['TotalPet'], period=12, extrapolate_trend='freq')\n",
        "fig = decomp.plot()\n",
        "fig.set_size_inches(10,7)"
      ]
    },
    {
      "cell_type": "markdown",
      "metadata": {
        "id": "h4ImvaThNwyf"
      },
      "source": [
        "# Convertir los datos a Estacionarios"
      ]
    },
    {
      "cell_type": "markdown",
      "metadata": {
        "id": "Nf7HRAA_OJ1u"
      },
      "source": [
        "Realizamos el **test Dickey-Fuller** en la cual, **la hipótesis nula es que los datos no son estacionarios** (*si p es muy pequeña, rechazaremos la hipotesis nula*)\n",
        "La hipotesis alternativa es que son estacionarios"
      ]
    },
    {
      "cell_type": "code",
      "execution_count": 13,
      "metadata": {
        "colab": {
          "base_uri": "https://localhost:8080/"
        },
        "id": "sC3EVnklNRZh",
        "outputId": "d1ba245f-fe01-4a18-eb0f-f288ef1885d1"
      },
      "outputs": [
        {
          "data": {
            "text/plain": [
              "0.16929624800270643"
            ]
          },
          "execution_count": 13,
          "metadata": {},
          "output_type": "execute_result"
        }
      ],
      "source": [
        "pValue = adfuller(datos['TotalPet'])[1]\n",
        "pValue"
      ]
    },
    {
      "cell_type": "code",
      "execution_count": 14,
      "metadata": {
        "colab": {
          "base_uri": "https://localhost:8080/"
        },
        "id": "hNZ7rkOZPyE9",
        "outputId": "8ae439c8-056d-49c2-fe53-c9aaf2a0c278"
      },
      "outputs": [
        {
          "name": "stdout",
          "output_type": "stream",
          "text": [
            "P-value:  0.16929624800270643\n",
            "No se rechaza la hipóteis nula, los datos no son estacionarios\n"
          ]
        }
      ],
      "source": [
        "p_value_adfuller(datos['TotalPet'])"
      ]
    },
    {
      "cell_type": "code",
      "execution_count": 16,
      "metadata": {
        "colab": {
          "base_uri": "https://localhost:8080/",
          "height": 296
        },
        "id": "dlg9xMWRQZ-c",
        "outputId": "5aedec15-fc15-40c2-d76e-92346bc44cf4"
      },
      "outputs": [
        {
          "data": {
            "image/png": "[encoded data removed]",
            "text/plain": [
              "<Figure size 720x288 with 1 Axes>"
            ]
          },
          "metadata": {
            "needs_background": "light"
          },
          "output_type": "display_data"
        }
      ],
      "source": [
        "datos['1a diff']= datos['TotalPet'] - datos['TotalPet'].shift(1) \n",
        "datos['1a diff'].plot(figsize=(10,4))\n",
        "plt.show()"
      ]
    },
    {
      "cell_type": "code",
      "execution_count": 77,
      "metadata": {
        "colab": {
          "base_uri": "https://localhost:8080/"
        },
        "id": "cj8JYcb7SGML",
        "outputId": "bb7f8b1f-f3ef-49a7-9fa4-d68fa76f8f8f"
      },
      "outputs": [
        {
          "name": "stdout",
          "output_type": "stream",
          "text": [
            "P-value:  1.2919028643504744e-18\n",
            "Se rechaza la hipótesis nula, los datos son estacionarios\n"
          ]
        }
      ],
      "source": [
        "p_value_adfuller((datos['1a diff']).dropna())"
      ]
    },
    {
      "cell_type": "markdown",
      "metadata": {
        "id": "QJQq4fHQUKgj"
      },
      "source": [
        "# Visualización de la ACF y PACF"
      ]
    },
    {
      "cell_type": "code",
      "execution_count": 78,
      "metadata": {
        "colab": {
          "base_uri": "https://localhost:8080/",
          "height": 545
        },
        "id": "O32sIis-TXjb",
        "outputId": "a4a0ee2a-c750-42b3-c317-449ebc465f17"
      },
      "outputs": [
        {
          "name": "stderr",
          "output_type": "stream",
          "text": [
            "c:\\Users\\conte\\AppData\\Local\\Programs\\Python\\Python310\\lib\\site-packages\\statsmodels\\graphics\\tsaplots.py:348: FutureWarning: The default method 'yw' can produce PACF values outside of the [-1,1] interval. After 0.13, the default will change tounadjusted Yule-Walker ('ywm'). You can use this method now by setting method='ywm'.\n",
            "  warnings.warn(\n"
          ]
        },
        {
          "data": {
            "image/png": "[encoded data removed]",
            "text/plain": [
              "<Figure size 432x288 with 1 Axes>"
            ]
          },
          "metadata": {
            "needs_background": "light"
          },
          "output_type": "display_data"
        },
        {
          "data": {
            "image/png": "[encoded data removed]",
            "text/plain": [
              "<Figure size 432x288 with 1 Axes>"
            ]
          },
          "metadata": {
            "needs_background": "light"
          },
          "output_type": "display_data"
        }
      ],
      "source": [
        "plot_acf(datos['1a diff'].dropna())\n",
        "plot_pacf(datos['1a diff'].dropna())\n",
        "plt.show()"
      ]
    },
    {
      "cell_type": "markdown",
      "metadata": {
        "id": "QTNaES_MUT8Z"
      },
      "source": [
        "# Construcción del modelo SARIMA\n",
        "\n"
      ]
    },
    {
      "cell_type": "code",
      "execution_count": 107,
      "metadata": {
        "id": "wqegzdcewIjr"
      },
      "outputs": [],
      "source": [
        "train = datos.loc[:'2022-1-1','TotalPet']\n",
        "test = datos.loc['2022-1-1':,'TotalPet']"
      ]
    },
    {
      "cell_type": "code",
      "execution_count": 108,
      "metadata": {
        "colab": {
          "base_uri": "https://localhost:8080/",
          "height": 279
        },
        "id": "39nzj215wayO",
        "outputId": "2e791615-047e-4661-bf7d-60a554a5ee3e"
      },
      "outputs": [
        {
          "data": {
            "image/png": "[encoded data removed]",
            "text/plain": [
              "<Figure size 720x288 with 1 Axes>"
            ]
          },
          "metadata": {
            "needs_background": "light"
          },
          "output_type": "display_data"
        }
      ],
      "source": [
        "train.plot(label = 'train', figsize =(10,4))\n",
        "test.plot(label = 'test', figsize =(10,4))\n",
        "plt.legend()\n",
        "plt.show()"
      ]
    },
    {
      "cell_type": "code",
      "execution_count": 112,
      "metadata": {},
      "outputs": [
        {
          "data": {
            "text/plain": [
              "0.044585987261146494"
            ]
          },
          "execution_count": 112,
          "metadata": {},
          "output_type": "execute_result"
        }
      ],
      "source": [
        "len(test)/len(train)"
      ]
    },
    {
      "cell_type": "code",
      "execution_count": 109,
      "metadata": {
        "colab": {
          "base_uri": "https://localhost:8080/"
        },
        "id": "Z7a2MjVfrnh3",
        "outputId": "2d65ab50-cf16-4af1-8e3e-ce449bbecb80"
      },
      "outputs": [
        {
          "data": {
            "text/plain": [
              "[(0, 0, 0),\n",
              " (0, 0, 1),\n",
              " (0, 0, 2),\n",
              " (0, 1, 0),\n",
              " (0, 1, 1),\n",
              " (0, 1, 2),\n",
              " (0, 2, 0),\n",
              " (0, 2, 1),\n",
              " (0, 2, 2),\n",
              " (1, 0, 0),\n",
              " (1, 0, 1),\n",
              " (1, 0, 2),\n",
              " (1, 1, 0),\n",
              " (1, 1, 1),\n",
              " (1, 1, 2),\n",
              " (1, 2, 0),\n",
              " (1, 2, 1),\n",
              " (1, 2, 2),\n",
              " (2, 0, 0),\n",
              " (2, 0, 1),\n",
              " (2, 0, 2),\n",
              " (2, 1, 0),\n",
              " (2, 1, 1),\n",
              " (2, 1, 2),\n",
              " (2, 2, 0),\n",
              " (2, 2, 1),\n",
              " (2, 2, 2)]"
            ]
          },
          "execution_count": 109,
          "metadata": {},
          "output_type": "execute_result"
        }
      ],
      "source": [
        "p = d = q = range(0, 3)\n",
        "pdq = list(itertools.product(p, d, q))\n",
        "pdq"
      ]
    },
    {
      "cell_type": "code",
      "execution_count": 110,
      "metadata": {
        "colab": {
          "base_uri": "https://localhost:8080/"
        },
        "id": "IfXi5eUprrDO",
        "outputId": "cb08d73b-8d9e-417d-ac40-d001a16ca4cf"
      },
      "outputs": [
        {
          "data": {
            "text/plain": [
              "[(0, 0, 0, 12),\n",
              " (0, 0, 1, 12),\n",
              " (0, 0, 2, 12),\n",
              " (0, 1, 0, 12),\n",
              " (0, 1, 1, 12),\n",
              " (0, 1, 2, 12),\n",
              " (0, 2, 0, 12),\n",
              " (0, 2, 1, 12),\n",
              " (0, 2, 2, 12),\n",
              " (1, 0, 0, 12),\n",
              " (1, 0, 1, 12),\n",
              " (1, 0, 2, 12),\n",
              " (1, 1, 0, 12),\n",
              " (1, 1, 1, 12),\n",
              " (1, 1, 2, 12),\n",
              " (1, 2, 0, 12),\n",
              " (1, 2, 1, 12),\n",
              " (1, 2, 2, 12),\n",
              " (2, 0, 0, 12),\n",
              " (2, 0, 1, 12),\n",
              " (2, 0, 2, 12),\n",
              " (2, 1, 0, 12),\n",
              " (2, 1, 1, 12),\n",
              " (2, 1, 2, 12),\n",
              " (2, 2, 0, 12),\n",
              " (2, 2, 1, 12),\n",
              " (2, 2, 2, 12)]"
            ]
          },
          "execution_count": 110,
          "metadata": {},
          "output_type": "execute_result"
        }
      ],
      "source": [
        "p = d =  q = range(0, 3)\n",
        "seasonal_pdq = [(x[0], x[1], x[2], 12) for x in list(itertools.product(p, d, q))]\n",
        "seasonal_pdq"
      ]
    },
    {
      "cell_type": "code",
      "execution_count": 111,
      "metadata": {
        "colab": {
          "base_uri": "https://localhost:8080/"
        },
        "id": "0ouzJkoLsDKe",
        "outputId": "8acc6b33-481c-41df-89da-f1d651e31109"
      },
      "outputs": [
        {
          "name": "stdout",
          "output_type": "stream",
          "text": [
            "ARIMA(0, 0, 0) x (0, 0, 0, 12) - AIC:3958.059295848826\n",
            "ARIMA(0, 0, 0) x (0, 0, 1, 12) - AIC:115950.17628010738\n"
          ]
        },
        {
          "name": "stderr",
          "output_type": "stream",
          "text": [
            "c:\\Users\\conte\\AppData\\Local\\Programs\\Python\\Python310\\lib\\site-packages\\statsmodels\\base\\model.py:604: ConvergenceWarning: Maximum Likelihood optimization failed to converge. Check mle_retvals\n",
            "  warnings.warn(\"Maximum Likelihood optimization failed to \"\n"
          ]
        },
        {
          "name": "stdout",
          "output_type": "stream",
          "text": [
            "ARIMA(0, 0, 0) x (0, 0, 2, 12) - AIC:3436.222160272049\n",
            "ARIMA(0, 0, 0) x (0, 1, 0, 12) - AIC:2853.253488436051\n",
            "ARIMA(0, 0, 0) x (0, 1, 1, 12) - AIC:2571.048095783884\n",
            "ARIMA(0, 0, 0) x (0, 1, 2, 12) - AIC:2324.8583959148764\n",
            "ARIMA(0, 0, 0) x (0, 2, 0, 12) - AIC:2731.1429081882497\n",
            "ARIMA(0, 0, 0) x (0, 2, 1, 12) - AIC:2419.5685265190764\n",
            "ARIMA(0, 0, 0) x (0, 2, 2, 12) - AIC:2168.922045593548\n",
            "ARIMA(0, 0, 0) x (1, 0, 0, 12) - AIC:2863.028955881473\n",
            "ARIMA(0, 0, 0) x (1, 0, 1, 12) - AIC:2853.6401834596363\n",
            "ARIMA(0, 0, 0) x (1, 0, 2, 12) - AIC:2565.0881423694454\n",
            "ARIMA(0, 0, 0) x (1, 1, 0, 12) - AIC:2617.06902219944\n",
            "ARIMA(0, 0, 0) x (1, 1, 1, 12) - AIC:2627.720129714871\n",
            "ARIMA(0, 0, 0) x (1, 1, 2, 12) - AIC:2319.9640760815237\n",
            "ARIMA(0, 0, 0) x (1, 2, 0, 12) - AIC:2430.3927238049127\n",
            "ARIMA(0, 0, 0) x (1, 2, 1, 12) - AIC:2401.8112776784633\n",
            "ARIMA(0, 0, 0) x (1, 2, 2, 12) - AIC:2150.556308633576\n",
            "ARIMA(0, 0, 0) x (2, 0, 0, 12) - AIC:2594.379397056321\n",
            "ARIMA(0, 0, 0) x (2, 0, 1, 12) - AIC:2576.786433495177\n",
            "ARIMA(0, 0, 0) x (2, 0, 2, 12) - AIC:2557.7363258797486\n",
            "ARIMA(0, 0, 0) x (2, 1, 0, 12) - AIC:2338.4965537860726\n",
            "ARIMA(0, 0, 0) x (2, 1, 1, 12) - AIC:2340.8166858404174\n",
            "ARIMA(0, 0, 0) x (2, 1, 2, 12) - AIC:2318.8125955902674\n",
            "ARIMA(0, 0, 0) x (2, 2, 0, 12) - AIC:2133.5109364605814\n",
            "ARIMA(0, 0, 0) x (2, 2, 1, 12) - AIC:2132.0891375537144\n",
            "ARIMA(0, 0, 0) x (2, 2, 2, 12) - AIC:2112.881758342701\n",
            "ARIMA(0, 0, 1) x (0, 0, 0, 12) - AIC:3821.703596125272\n",
            "ARIMA(0, 0, 1) x (0, 0, 1, 12) - AIC:116596.19468609722\n",
            "ARIMA(0, 0, 1) x (0, 0, 2, 12) - AIC:5034.997645163483\n",
            "ARIMA(0, 0, 1) x (0, 1, 0, 12) - AIC:2783.7769861340867\n",
            "ARIMA(0, 0, 1) x (0, 1, 1, 12) - AIC:2514.2895774918934\n",
            "ARIMA(0, 0, 1) x (0, 1, 2, 12) - AIC:2265.3698619827455\n",
            "ARIMA(0, 0, 1) x (0, 2, 0, 12) - AIC:2666.1915562036993\n",
            "ARIMA(0, 0, 1) x (0, 2, 1, 12) - AIC:2367.301839866952\n",
            "ARIMA(0, 0, 1) x (0, 2, 2, 12) - AIC:2113.534634537964\n",
            "ARIMA(0, 0, 1) x (1, 0, 0, 12) - AIC:3536.5696158261235\n",
            "ARIMA(0, 0, 1) x (1, 0, 1, 12) - AIC:3489.4403542905293\n",
            "ARIMA(0, 0, 1) x (1, 0, 2, 12) - AIC:3197.1206113469407\n",
            "ARIMA(0, 0, 1) x (1, 1, 0, 12) - AIC:2558.850547726445\n",
            "ARIMA(0, 0, 1) x (1, 1, 1, 12) - AIC:2512.2426182168383\n",
            "ARIMA(0, 0, 1) x (1, 1, 2, 12) - AIC:2267.2713473376198\n",
            "ARIMA(0, 0, 1) x (1, 2, 0, 12) - AIC:2365.516094319702\n",
            "ARIMA(0, 0, 1) x (1, 2, 1, 12) - AIC:2360.5094610450255\n",
            "ARIMA(0, 0, 1) x (1, 2, 2, 12) - AIC:2114.4535875547504\n",
            "ARIMA(0, 0, 1) x (2, 0, 0, 12) - AIC:3244.175064266048\n",
            "ARIMA(0, 0, 1) x (2, 0, 1, 12) - AIC:3246.1591185221305\n",
            "ARIMA(0, 0, 1) x (2, 0, 2, 12) - AIC:3199.1153807594255\n",
            "ARIMA(0, 0, 1) x (2, 1, 0, 12) - AIC:2308.5770524814257\n",
            "ARIMA(0, 0, 1) x (2, 1, 1, 12) - AIC:2308.9648269158374\n",
            "ARIMA(0, 0, 1) x (2, 1, 2, 12) - AIC:2268.9588269002406\n",
            "ARIMA(0, 0, 1) x (2, 2, 0, 12) - AIC:2080.916912923225\n",
            "ARIMA(0, 0, 1) x (2, 2, 1, 12) - AIC:2151.8114474513472\n",
            "ARIMA(0, 0, 1) x (2, 2, 2, 12) - AIC:2111.6185502413764\n",
            "ARIMA(0, 0, 2) x (0, 0, 0, 12) - AIC:3773.092110808885\n",
            "ARIMA(0, 0, 2) x (0, 0, 1, 12) - AIC:116347.39588186417\n",
            "ARIMA(0, 0, 2) x (0, 0, 2, 12) - AIC:4996.444904561703\n",
            "ARIMA(0, 0, 2) x (0, 1, 0, 12) - AIC:2743.340793205611\n",
            "ARIMA(0, 0, 2) x (0, 1, 1, 12) - AIC:2468.3772740027034\n",
            "ARIMA(0, 0, 2) x (0, 1, 2, 12) - AIC:2220.6653192216054\n",
            "ARIMA(0, 0, 2) x (0, 2, 0, 12) - AIC:2615.418939475338\n",
            "ARIMA(0, 0, 2) x (0, 2, 1, 12) - AIC:2316.041600370149\n",
            "ARIMA(0, 0, 2) x (0, 2, 2, 12) - AIC:2073.458982786693\n",
            "ARIMA(0, 0, 2) x (1, 0, 0, 12) - AIC:3537.587329416796\n",
            "ARIMA(0, 0, 2) x (1, 0, 1, 12) - AIC:3465.9065776474645\n",
            "ARIMA(0, 0, 2) x (1, 0, 2, 12) - AIC:3173.685529673525\n",
            "ARIMA(0, 0, 2) x (1, 1, 0, 12) - AIC:2530.7195394710952\n",
            "ARIMA(0, 0, 2) x (1, 1, 1, 12) - AIC:2470.2777484742637\n"
          ]
        },
        {
          "name": "stderr",
          "output_type": "stream",
          "text": [
            "c:\\Users\\conte\\AppData\\Local\\Programs\\Python\\Python310\\lib\\site-packages\\statsmodels\\base\\model.py:604: ConvergenceWarning: Maximum Likelihood optimization failed to converge. Check mle_retvals\n",
            "  warnings.warn(\"Maximum Likelihood optimization failed to \"\n"
          ]
        },
        {
          "name": "stdout",
          "output_type": "stream",
          "text": [
            "ARIMA(0, 0, 2) x (1, 1, 2, 12) - AIC:2158.1472743694226\n",
            "ARIMA(0, 0, 2) x (1, 2, 0, 12) - AIC:2385.581269916827\n",
            "ARIMA(0, 0, 2) x (1, 2, 1, 12) - AIC:2317.4775246670115\n",
            "ARIMA(0, 0, 2) x (1, 2, 2, 12) - AIC:2005.2144153071765\n",
            "ARIMA(0, 0, 2) x (2, 0, 0, 12) - AIC:3245.2287299753502\n",
            "ARIMA(0, 0, 2) x (2, 0, 1, 12) - AIC:3247.2270363797397\n",
            "ARIMA(0, 0, 2) x (2, 0, 2, 12) - AIC:3175.6966384808466\n",
            "ARIMA(0, 0, 2) x (2, 1, 0, 12) - AIC:2234.7163156366205\n",
            "ARIMA(0, 0, 2) x (2, 1, 1, 12) - AIC:2233.897808505255\n",
            "ARIMA(0, 0, 2) x (2, 1, 2, 12) - AIC:2154.136619700971\n",
            "ARIMA(0, 0, 2) x (2, 2, 0, 12) - AIC:2133.041021508375\n",
            "ARIMA(0, 0, 2) x (2, 2, 1, 12) - AIC:2062.077230385171\n",
            "ARIMA(0, 0, 2) x (2, 2, 2, 12) - AIC:1994.0398395128686\n",
            "ARIMA(0, 1, 0) x (0, 0, 0, 12) - AIC:2887.3148605878114\n",
            "ARIMA(0, 1, 0) x (0, 0, 1, 12) - AIC:2636.8864738856655\n",
            "ARIMA(0, 1, 0) x (0, 0, 2, 12) - AIC:2362.944170371855\n",
            "ARIMA(0, 1, 0) x (0, 1, 0, 12) - AIC:2752.083374078469\n",
            "ARIMA(0, 1, 0) x (0, 1, 1, 12) - AIC:2461.6063942622113\n",
            "ARIMA(0, 1, 0) x (0, 1, 2, 12) - AIC:2145.408319799437\n",
            "ARIMA(0, 1, 0) x (0, 2, 0, 12) - AIC:2644.2174920558014\n",
            "ARIMA(0, 1, 0) x (0, 2, 1, 12) - AIC:2230.991468076232\n",
            "ARIMA(0, 1, 0) x (0, 2, 2, 12) - AIC:1973.6062523283817\n",
            "ARIMA(0, 1, 0) x (1, 0, 0, 12) - AIC:2654.4281392329067\n",
            "ARIMA(0, 1, 0) x (1, 0, 1, 12) - AIC:2613.4094402186183\n",
            "ARIMA(0, 1, 0) x (1, 0, 2, 12) - AIC:2362.48392733541\n",
            "ARIMA(0, 1, 0) x (1, 1, 0, 12) - AIC:2468.7049398054282\n",
            "ARIMA(0, 1, 0) x (1, 1, 1, 12) - AIC:2452.8707018299847\n",
            "ARIMA(0, 1, 0) x (1, 1, 2, 12) - AIC:2140.1640493559266\n",
            "ARIMA(0, 1, 0) x (1, 2, 0, 12) - AIC:2318.013673486684\n",
            "ARIMA(0, 1, 0) x (1, 2, 1, 12) - AIC:2209.328633376278\n",
            "ARIMA(0, 1, 0) x (1, 2, 2, 12) - AIC:1958.8980111002638\n",
            "ARIMA(0, 1, 0) x (2, 0, 0, 12) - AIC:2380.0101181273776\n",
            "ARIMA(0, 1, 0) x (2, 0, 1, 12) - AIC:2381.9086301805346\n",
            "ARIMA(0, 1, 0) x (2, 0, 2, 12) - AIC:2379.5696955198255\n",
            "ARIMA(0, 1, 0) x (2, 1, 0, 12) - AIC:2150.9878160930894\n",
            "ARIMA(0, 1, 0) x (2, 1, 1, 12) - AIC:2152.7927454183273\n",
            "ARIMA(0, 1, 0) x (2, 1, 2, 12) - AIC:2137.2455167571175\n"
          ]
        },
        {
          "name": "stderr",
          "output_type": "stream",
          "text": [
            "c:\\Users\\conte\\AppData\\Local\\Programs\\Python\\Python310\\lib\\site-packages\\statsmodels\\base\\model.py:604: ConvergenceWarning: Maximum Likelihood optimization failed to converge. Check mle_retvals\n",
            "  warnings.warn(\"Maximum Likelihood optimization failed to \"\n"
          ]
        },
        {
          "name": "stdout",
          "output_type": "stream",
          "text": [
            "ARIMA(0, 1, 0) x (2, 2, 0, 12) - AIC:1999.0719121380587\n",
            "ARIMA(0, 1, 0) x (2, 2, 1, 12) - AIC:1946.197762488687\n",
            "ARIMA(0, 1, 0) x (2, 2, 2, 12) - AIC:1931.7923111085013\n",
            "ARIMA(0, 1, 1) x (0, 0, 0, 12) - AIC:2855.851034379003\n",
            "ARIMA(0, 1, 1) x (0, 0, 1, 12) - AIC:2612.4085073478436\n",
            "ARIMA(0, 1, 1) x (0, 0, 2, 12) - AIC:2347.398577655341\n",
            "ARIMA(0, 1, 1) x (0, 1, 0, 12) - AIC:2721.2415265724408\n",
            "ARIMA(0, 1, 1) x (0, 1, 1, 12) - AIC:2450.7071192206895\n",
            "ARIMA(0, 1, 1) x (0, 1, 2, 12) - AIC:2123.8144026671434\n",
            "ARIMA(0, 1, 1) x (0, 2, 0, 12) - AIC:2613.1597436927955\n",
            "ARIMA(0, 1, 1) x (0, 2, 1, 12) - AIC:2213.57904325154\n",
            "ARIMA(0, 1, 1) x (0, 2, 2, 12) - AIC:2039.3169413533603\n",
            "ARIMA(0, 1, 1) x (1, 0, 0, 12) - AIC:2649.554418349545\n",
            "ARIMA(0, 1, 1) x (1, 0, 1, 12) - AIC:2603.2285448281564\n",
            "ARIMA(0, 1, 1) x (1, 0, 2, 12) - AIC:2346.7738606218963\n",
            "ARIMA(0, 1, 1) x (1, 1, 0, 12) - AIC:2481.0534395584664\n",
            "ARIMA(0, 1, 1) x (1, 1, 1, 12) - AIC:2432.658482949701\n"
          ]
        },
        {
          "name": "stderr",
          "output_type": "stream",
          "text": [
            "c:\\Users\\conte\\AppData\\Local\\Programs\\Python\\Python310\\lib\\site-packages\\statsmodels\\base\\model.py:604: ConvergenceWarning: Maximum Likelihood optimization failed to converge. Check mle_retvals\n",
            "  warnings.warn(\"Maximum Likelihood optimization failed to \"\n"
          ]
        },
        {
          "name": "stdout",
          "output_type": "stream",
          "text": [
            "ARIMA(0, 1, 1) x (1, 1, 2, 12) - AIC:2123.8837856858904\n",
            "ARIMA(0, 1, 1) x (1, 2, 0, 12) - AIC:2346.439052618453\n",
            "ARIMA(0, 1, 1) x (1, 2, 1, 12) - AIC:2192.6491170203285\n"
          ]
        },
        {
          "name": "stderr",
          "output_type": "stream",
          "text": [
            "c:\\Users\\conte\\AppData\\Local\\Programs\\Python\\Python310\\lib\\site-packages\\statsmodels\\base\\model.py:604: ConvergenceWarning: Maximum Likelihood optimization failed to converge. Check mle_retvals\n",
            "  warnings.warn(\"Maximum Likelihood optimization failed to \"\n"
          ]
        },
        {
          "name": "stdout",
          "output_type": "stream",
          "text": [
            "ARIMA(0, 1, 1) x (1, 2, 2, 12) - AIC:1921.0386062844102\n",
            "ARIMA(0, 1, 1) x (2, 0, 0, 12) - AIC:2381.941292921348\n",
            "ARIMA(0, 1, 1) x (2, 0, 1, 12) - AIC:2379.9195914931024\n",
            "ARIMA(0, 1, 1) x (2, 0, 2, 12) - AIC:2347.1853717153476\n",
            "ARIMA(0, 1, 1) x (2, 1, 0, 12) - AIC:2152.4098398050714\n",
            "ARIMA(0, 1, 1) x (2, 1, 1, 12) - AIC:2154.235985345681\n",
            "ARIMA(0, 1, 1) x (2, 1, 2, 12) - AIC:2114.581590507056\n",
            "ARIMA(0, 1, 1) x (2, 2, 0, 12) - AIC:1999.4972886532585\n",
            "ARIMA(0, 1, 1) x (2, 2, 1, 12) - AIC:1945.3162493336642\n",
            "ARIMA(0, 1, 1) x (2, 2, 2, 12) - AIC:2041.9031070327624\n",
            "ARIMA(0, 1, 2) x (0, 0, 0, 12) - AIC:2839.982069043632\n",
            "ARIMA(0, 1, 2) x (0, 0, 1, 12) - AIC:2594.780485191186\n",
            "ARIMA(0, 1, 2) x (0, 0, 2, 12) - AIC:2264.3259575922934\n",
            "ARIMA(0, 1, 2) x (0, 1, 0, 12) - AIC:2703.457135631539\n",
            "ARIMA(0, 1, 2) x (0, 1, 1, 12) - AIC:2409.030867670038\n",
            "ARIMA(0, 1, 2) x (0, 1, 2, 12) - AIC:2097.165390601034\n",
            "ARIMA(0, 1, 2) x (0, 2, 0, 12) - AIC:2590.6627440672646\n",
            "ARIMA(0, 1, 2) x (0, 2, 1, 12) - AIC:2148.057814739457\n",
            "ARIMA(0, 1, 2) x (0, 2, 2, 12) - AIC:2018.5472063964355\n",
            "ARIMA(0, 1, 2) x (1, 0, 0, 12) - AIC:2647.1908338018675\n",
            "ARIMA(0, 1, 2) x (1, 0, 1, 12) - AIC:2587.399174030267\n",
            "ARIMA(0, 1, 2) x (1, 0, 2, 12) - AIC:2264.163238248131\n",
            "ARIMA(0, 1, 2) x (1, 1, 0, 12) - AIC:2477.7701375128227\n",
            "ARIMA(0, 1, 2) x (1, 1, 1, 12) - AIC:2381.4809401084685\n",
            "ARIMA(0, 1, 2) x (1, 1, 2, 12) - AIC:2096.819581284114\n",
            "ARIMA(0, 1, 2) x (1, 2, 0, 12) - AIC:2346.3049469327243\n",
            "ARIMA(0, 1, 2) x (1, 2, 1, 12) - AIC:2141.5226866880635\n",
            "ARIMA(0, 1, 2) x (1, 2, 2, 12) - AIC:2019.0785618890843\n",
            "ARIMA(0, 1, 2) x (2, 0, 0, 12) - AIC:2389.4549942316635\n",
            "ARIMA(0, 1, 2) x (2, 0, 1, 12) - AIC:2391.4431405330715\n",
            "ARIMA(0, 1, 2) x (2, 0, 2, 12) - AIC:2265.6397921871126\n",
            "ARIMA(0, 1, 2) x (2, 1, 0, 12) - AIC:2150.122862182997\n",
            "ARIMA(0, 1, 2) x (2, 1, 1, 12) - AIC:2151.9430223899376\n",
            "ARIMA(0, 1, 2) x (2, 1, 2, 12) - AIC:2086.872453013347\n",
            "ARIMA(0, 1, 2) x (2, 2, 0, 12) - AIC:2000.2231871047816\n",
            "ARIMA(0, 1, 2) x (2, 2, 1, 12) - AIC:1947.1833578069861\n"
          ]
        },
        {
          "name": "stderr",
          "output_type": "stream",
          "text": [
            "c:\\Users\\conte\\AppData\\Local\\Programs\\Python\\Python310\\lib\\site-packages\\statsmodels\\base\\model.py:604: ConvergenceWarning: Maximum Likelihood optimization failed to converge. Check mle_retvals\n",
            "  warnings.warn(\"Maximum Likelihood optimization failed to \"\n"
          ]
        },
        {
          "name": "stdout",
          "output_type": "stream",
          "text": [
            "ARIMA(0, 1, 2) x (2, 2, 2, 12) - AIC:1902.4384327374223\n",
            "ARIMA(0, 2, 0) x (0, 0, 0, 12) - AIC:3011.2981319023393\n",
            "ARIMA(0, 2, 0) x (0, 0, 1, 12) - AIC:2744.5528537453783\n",
            "ARIMA(0, 2, 0) x (0, 0, 2, 12) - AIC:2440.703522737953\n",
            "ARIMA(0, 2, 0) x (0, 1, 0, 12) - AIC:2864.877307345622\n",
            "ARIMA(0, 2, 0) x (0, 1, 1, 12) - AIC:2548.6687965771407\n",
            "ARIMA(0, 2, 0) x (0, 1, 2, 12) - AIC:2226.5583482987126\n",
            "ARIMA(0, 2, 0) x (0, 2, 0, 12) - AIC:2741.3226593854315\n",
            "ARIMA(0, 2, 0) x (0, 2, 1, 12) - AIC:2303.8546493570984\n",
            "ARIMA(0, 2, 0) x (0, 2, 2, 12) - AIC:2061.866439796688\n",
            "ARIMA(0, 2, 0) x (1, 0, 0, 12) - AIC:2762.9876430084887\n",
            "ARIMA(0, 2, 0) x (1, 0, 1, 12) - AIC:2721.611765832639\n",
            "ARIMA(0, 2, 0) x (1, 0, 2, 12) - AIC:2442.465702245261\n",
            "ARIMA(0, 2, 0) x (1, 1, 0, 12) - AIC:2560.406430507601\n",
            "ARIMA(0, 2, 0) x (1, 1, 1, 12) - AIC:2543.584261336404\n",
            "ARIMA(0, 2, 0) x (1, 1, 2, 12) - AIC:2226.825834875161\n",
            "ARIMA(0, 2, 0) x (1, 2, 0, 12) - AIC:2393.6255734181755\n",
            "ARIMA(0, 2, 0) x (1, 2, 1, 12) - AIC:2290.3029671315594\n",
            "ARIMA(0, 2, 0) x (1, 2, 2, 12) - AIC:2027.0095221961956\n",
            "ARIMA(0, 2, 0) x (2, 0, 0, 12) - AIC:2458.544679772077\n",
            "ARIMA(0, 2, 0) x (2, 0, 1, 12) - AIC:2460.104915956693\n"
          ]
        },
        {
          "name": "stderr",
          "output_type": "stream",
          "text": [
            "c:\\Users\\conte\\AppData\\Local\\Programs\\Python\\Python310\\lib\\site-packages\\statsmodels\\base\\model.py:604: ConvergenceWarning: Maximum Likelihood optimization failed to converge. Check mle_retvals\n",
            "  warnings.warn(\"Maximum Likelihood optimization failed to \"\n"
          ]
        },
        {
          "name": "stdout",
          "output_type": "stream",
          "text": [
            "ARIMA(0, 2, 0) x (2, 0, 2, 12) - AIC:2440.7298535148084\n",
            "ARIMA(0, 2, 0) x (2, 1, 0, 12) - AIC:2230.741552337678\n",
            "ARIMA(0, 2, 0) x (2, 1, 1, 12) - AIC:2232.6158874094904\n",
            "ARIMA(0, 2, 0) x (2, 1, 2, 12) - AIC:2216.2304221605214\n",
            "ARIMA(0, 2, 0) x (2, 2, 0, 12) - AIC:2071.0014013001214\n",
            "ARIMA(0, 2, 0) x (2, 2, 1, 12) - AIC:2023.6251937743116\n",
            "ARIMA(0, 2, 0) x (2, 2, 2, 12) - AIC:2004.361930788624\n",
            "ARIMA(0, 2, 1) x (0, 0, 0, 12) - AIC:2927.9437648785615\n",
            "ARIMA(0, 2, 1) x (0, 0, 1, 12) - AIC:2619.736535327341\n",
            "ARIMA(0, 2, 1) x (0, 0, 2, 12) - AIC:2281.258591705021\n",
            "ARIMA(0, 2, 1) x (0, 1, 0, 12) - AIC:2769.4824055278737\n",
            "ARIMA(0, 2, 1) x (0, 1, 1, 12) - AIC:2460.3342986008083\n",
            "ARIMA(0, 2, 1) x (0, 1, 2, 12) - AIC:2101.489994271818\n",
            "ARIMA(0, 2, 1) x (0, 2, 0, 12) - AIC:2621.106368431688\n",
            "ARIMA(0, 2, 1) x (0, 2, 1, 12) - AIC:2299.150160506997\n",
            "ARIMA(0, 2, 1) x (0, 2, 2, 12) - AIC:1938.5243582814146\n",
            "ARIMA(0, 2, 1) x (1, 0, 0, 12) - AIC:2655.5014743922648\n",
            "ARIMA(0, 2, 1) x (1, 0, 1, 12) - AIC:2621.0926347302666\n",
            "ARIMA(0, 2, 1) x (1, 0, 2, 12) - AIC:2283.185334066864\n",
            "ARIMA(0, 2, 1) x (1, 1, 0, 12) - AIC:2504.7323040867827\n",
            "ARIMA(0, 2, 1) x (1, 1, 1, 12) - AIC:2462.142130478956\n"
          ]
        },
        {
          "name": "stderr",
          "output_type": "stream",
          "text": [
            "c:\\Users\\conte\\AppData\\Local\\Programs\\Python\\Python310\\lib\\site-packages\\statsmodels\\base\\model.py:604: ConvergenceWarning: Maximum Likelihood optimization failed to converge. Check mle_retvals\n",
            "  warnings.warn(\"Maximum Likelihood optimization failed to \"\n"
          ]
        },
        {
          "name": "stdout",
          "output_type": "stream",
          "text": [
            "ARIMA(0, 2, 1) x (1, 1, 2, 12) - AIC:2101.5207145455724\n",
            "ARIMA(0, 2, 1) x (1, 2, 0, 12) - AIC:2330.0975533600113\n",
            "ARIMA(0, 2, 1) x (1, 2, 1, 12) - AIC:2299.1499313514532\n",
            "ARIMA(0, 2, 1) x (1, 2, 2, 12) - AIC:2055.8444506798096\n",
            "ARIMA(0, 2, 1) x (2, 0, 0, 12) - AIC:2405.555060538043\n"
          ]
        },
        {
          "name": "stderr",
          "output_type": "stream",
          "text": [
            "c:\\Users\\conte\\AppData\\Local\\Programs\\Python\\Python310\\lib\\site-packages\\statsmodels\\base\\model.py:604: ConvergenceWarning: Maximum Likelihood optimization failed to converge. Check mle_retvals\n",
            "  warnings.warn(\"Maximum Likelihood optimization failed to \"\n"
          ]
        },
        {
          "name": "stdout",
          "output_type": "stream",
          "text": [
            "ARIMA(0, 2, 1) x (2, 0, 1, 12) - AIC:2365.833526337281\n",
            "ARIMA(0, 2, 1) x (2, 0, 2, 12) - AIC:2271.9479736218573\n",
            "ARIMA(0, 2, 1) x (2, 1, 0, 12) - AIC:2240.0698267924545\n",
            "ARIMA(0, 2, 1) x (2, 1, 1, 12) - AIC:2239.260235862629\n"
          ]
        },
        {
          "name": "stderr",
          "output_type": "stream",
          "text": [
            "c:\\Users\\conte\\AppData\\Local\\Programs\\Python\\Python310\\lib\\site-packages\\statsmodels\\base\\model.py:604: ConvergenceWarning: Maximum Likelihood optimization failed to converge. Check mle_retvals\n",
            "  warnings.warn(\"Maximum Likelihood optimization failed to \"\n"
          ]
        },
        {
          "name": "stdout",
          "output_type": "stream",
          "text": [
            "ARIMA(0, 2, 1) x (2, 1, 2, 12) - AIC:2150.801532510547\n",
            "ARIMA(0, 2, 1) x (2, 2, 0, 12) - AIC:2101.3324787518336\n"
          ]
        },
        {
          "name": "stderr",
          "output_type": "stream",
          "text": [
            "c:\\Users\\conte\\AppData\\Local\\Programs\\Python\\Python310\\lib\\site-packages\\statsmodels\\base\\model.py:604: ConvergenceWarning: Maximum Likelihood optimization failed to converge. Check mle_retvals\n",
            "  warnings.warn(\"Maximum Likelihood optimization failed to \"\n"
          ]
        },
        {
          "name": "stdout",
          "output_type": "stream",
          "text": [
            "ARIMA(0, 2, 1) x (2, 2, 1, 12) - AIC:1978.5584721884948\n",
            "ARIMA(0, 2, 1) x (2, 2, 2, 12) - AIC:2057.735016536431\n",
            "ARIMA(0, 2, 2) x (0, 0, 0, 12) - AIC:2874.3391916906703\n",
            "ARIMA(0, 2, 2) x (0, 0, 1, 12) - AIC:2586.8290147290845\n",
            "ARIMA(0, 2, 2) x (0, 0, 2, 12) - AIC:2255.0585838985444\n",
            "ARIMA(0, 2, 2) x (0, 1, 0, 12) - AIC:2739.7383955458445\n",
            "ARIMA(0, 2, 2) x (0, 1, 1, 12) - AIC:2423.706673617918\n",
            "ARIMA(0, 2, 2) x (0, 1, 2, 12) - AIC:2084.9608640761835\n",
            "ARIMA(0, 2, 2) x (0, 2, 0, 12) - AIC:2607.0298688104103\n",
            "ARIMA(0, 2, 2) x (0, 2, 1, 12) - AIC:2167.574831051167\n",
            "ARIMA(0, 2, 2) x (0, 2, 2, 12) - AIC:2025.9770839893304\n",
            "ARIMA(0, 2, 2) x (1, 0, 0, 12) - AIC:2640.058308762032\n",
            "ARIMA(0, 2, 2) x (1, 0, 1, 12) - AIC:2588.7641388129314\n"
          ]
        },
        {
          "name": "stderr",
          "output_type": "stream",
          "text": [
            "c:\\Users\\conte\\AppData\\Local\\Programs\\Python\\Python310\\lib\\site-packages\\statsmodels\\base\\model.py:604: ConvergenceWarning: Maximum Likelihood optimization failed to converge. Check mle_retvals\n",
            "  warnings.warn(\"Maximum Likelihood optimization failed to \"\n"
          ]
        },
        {
          "name": "stdout",
          "output_type": "stream",
          "text": [
            "ARIMA(0, 2, 2) x (1, 0, 2, 12) - AIC:2255.8365743233576\n",
            "ARIMA(0, 2, 2) x (1, 1, 0, 12) - AIC:2493.7799447210004\n",
            "ARIMA(0, 2, 2) x (1, 1, 1, 12) - AIC:2424.8781147525383\n"
          ]
        },
        {
          "name": "stderr",
          "output_type": "stream",
          "text": [
            "c:\\Users\\conte\\AppData\\Local\\Programs\\Python\\Python310\\lib\\site-packages\\statsmodels\\base\\model.py:604: ConvergenceWarning: Maximum Likelihood optimization failed to converge. Check mle_retvals\n",
            "  warnings.warn(\"Maximum Likelihood optimization failed to \"\n"
          ]
        },
        {
          "name": "stdout",
          "output_type": "stream",
          "text": [
            "ARIMA(0, 2, 2) x (1, 1, 2, 12) - AIC:2080.803199395986\n",
            "ARIMA(0, 2, 2) x (1, 2, 0, 12) - AIC:2371.399389748433\n",
            "ARIMA(0, 2, 2) x (1, 2, 1, 12) - AIC:2269.043370628835\n",
            "ARIMA(0, 2, 2) x (1, 2, 2, 12) - AIC:2027.9256547883383\n",
            "ARIMA(0, 2, 2) x (2, 0, 0, 12) - AIC:2390.551851413319\n",
            "ARIMA(0, 2, 2) x (2, 0, 1, 12) - AIC:2365.3150291258553\n"
          ]
        },
        {
          "name": "stderr",
          "output_type": "stream",
          "text": [
            "c:\\Users\\conte\\AppData\\Local\\Programs\\Python\\Python310\\lib\\site-packages\\statsmodels\\base\\model.py:604: ConvergenceWarning: Maximum Likelihood optimization failed to converge. Check mle_retvals\n",
            "  warnings.warn(\"Maximum Likelihood optimization failed to \"\n"
          ]
        },
        {
          "name": "stdout",
          "output_type": "stream",
          "text": [
            "ARIMA(0, 2, 2) x (2, 0, 2, 12) - AIC:2250.8505737016562\n"
          ]
        },
        {
          "name": "stderr",
          "output_type": "stream",
          "text": [
            "c:\\Users\\conte\\AppData\\Local\\Programs\\Python\\Python310\\lib\\site-packages\\statsmodels\\base\\model.py:604: ConvergenceWarning: Maximum Likelihood optimization failed to converge. Check mle_retvals\n",
            "  warnings.warn(\"Maximum Likelihood optimization failed to \"\n"
          ]
        },
        {
          "name": "stdout",
          "output_type": "stream",
          "text": [
            "ARIMA(0, 2, 2) x (2, 1, 0, 12) - AIC:2166.9760459882923\n",
            "ARIMA(0, 2, 2) x (2, 1, 1, 12) - AIC:2220.766444196005\n"
          ]
        },
        {
          "name": "stderr",
          "output_type": "stream",
          "text": [
            "c:\\Users\\conte\\AppData\\Local\\Programs\\Python\\Python310\\lib\\site-packages\\statsmodels\\base\\model.py:604: ConvergenceWarning: Maximum Likelihood optimization failed to converge. Check mle_retvals\n",
            "  warnings.warn(\"Maximum Likelihood optimization failed to \"\n"
          ]
        },
        {
          "name": "stdout",
          "output_type": "stream",
          "text": [
            "ARIMA(0, 2, 2) x (2, 1, 2, 12) - AIC:2100.228234286881\n",
            "ARIMA(0, 2, 2) x (2, 2, 0, 12) - AIC:2093.344355487753\n"
          ]
        },
        {
          "name": "stderr",
          "output_type": "stream",
          "text": [
            "c:\\Users\\conte\\AppData\\Local\\Programs\\Python\\Python310\\lib\\site-packages\\statsmodels\\base\\model.py:604: ConvergenceWarning: Maximum Likelihood optimization failed to converge. Check mle_retvals\n",
            "  warnings.warn(\"Maximum Likelihood optimization failed to \"\n"
          ]
        },
        {
          "name": "stdout",
          "output_type": "stream",
          "text": [
            "ARIMA(0, 2, 2) x (2, 2, 1, 12) - AIC:1980.3088258206776\n"
          ]
        },
        {
          "name": "stderr",
          "output_type": "stream",
          "text": [
            "c:\\Users\\conte\\AppData\\Local\\Programs\\Python\\Python310\\lib\\site-packages\\statsmodels\\base\\model.py:604: ConvergenceWarning: Maximum Likelihood optimization failed to converge. Check mle_retvals\n",
            "  warnings.warn(\"Maximum Likelihood optimization failed to \"\n"
          ]
        },
        {
          "name": "stdout",
          "output_type": "stream",
          "text": [
            "ARIMA(0, 2, 2) x (2, 2, 2, 12) - AIC:2029.8784371699448\n",
            "ARIMA(1, 0, 0) x (0, 0, 0, 12) - AIC:2907.31316886308\n",
            "ARIMA(1, 0, 0) x (0, 0, 1, 12) - AIC:3092.8140592026743\n",
            "ARIMA(1, 0, 0) x (0, 0, 2, 12) - AIC:2402.002313860912\n",
            "ARIMA(1, 0, 0) x (0, 1, 0, 12) - AIC:2752.948827834125\n",
            "ARIMA(1, 0, 0) x (0, 1, 1, 12) - AIC:2481.7013162619146\n",
            "ARIMA(1, 0, 0) x (0, 1, 2, 12) - AIC:2214.609521844774\n",
            "ARIMA(1, 0, 0) x (0, 2, 0, 12) - AIC:2646.2707251874153\n",
            "ARIMA(1, 0, 0) x (0, 2, 1, 12) - AIC:2322.5418284201937\n",
            "ARIMA(1, 0, 0) x (0, 2, 2, 12) - AIC:2075.339843133692\n",
            "ARIMA(1, 0, 0) x (1, 0, 0, 12) - AIC:2658.8281301287907\n",
            "ARIMA(1, 0, 0) x (1, 0, 1, 12) - AIC:2644.580056146586\n",
            "ARIMA(1, 0, 0) x (1, 0, 2, 12) - AIC:2403.173254757393\n",
            "ARIMA(1, 0, 0) x (1, 1, 0, 12) - AIC:2472.811362158669\n",
            "ARIMA(1, 0, 0) x (1, 1, 1, 12) - AIC:2474.8113011525875\n",
            "ARIMA(1, 0, 0) x (1, 1, 2, 12) - AIC:2216.4979698231555\n",
            "ARIMA(1, 0, 0) x (1, 2, 0, 12) - AIC:2339.2551958908066\n",
            "ARIMA(1, 0, 0) x (1, 2, 1, 12) - AIC:2317.9614551039967\n",
            "ARIMA(1, 0, 0) x (1, 2, 2, 12) - AIC:1971.782492876988\n",
            "ARIMA(1, 0, 0) x (2, 0, 0, 12) - AIC:2401.9504397783357\n",
            "ARIMA(1, 0, 0) x (2, 0, 1, 12) - AIC:2403.91031495648\n",
            "ARIMA(1, 0, 0) x (2, 0, 2, 12) - AIC:2404.167506068281\n",
            "ARIMA(1, 0, 0) x (2, 1, 0, 12) - AIC:2147.117797072341\n",
            "ARIMA(1, 0, 0) x (2, 1, 1, 12) - AIC:2148.7919725636425\n",
            "ARIMA(1, 0, 0) x (2, 1, 2, 12) - AIC:2149.8945019348403\n",
            "ARIMA(1, 0, 0) x (2, 2, 0, 12) - AIC:1994.1823122760375\n",
            "ARIMA(1, 0, 0) x (2, 2, 1, 12) - AIC:1993.7002136692938\n"
          ]
        },
        {
          "name": "stderr",
          "output_type": "stream",
          "text": [
            "c:\\Users\\conte\\AppData\\Local\\Programs\\Python\\Python310\\lib\\site-packages\\statsmodels\\base\\model.py:604: ConvergenceWarning: Maximum Likelihood optimization failed to converge. Check mle_retvals\n",
            "  warnings.warn(\"Maximum Likelihood optimization failed to \"\n"
          ]
        },
        {
          "name": "stdout",
          "output_type": "stream",
          "text": [
            "ARIMA(1, 0, 0) x (2, 2, 2, 12) - AIC:2058.033066368481\n",
            "ARIMA(1, 0, 1) x (0, 0, 0, 12) - AIC:2874.924555454094\n",
            "ARIMA(1, 0, 1) x (0, 0, 1, 12) - AIC:3063.387534006735\n",
            "ARIMA(1, 0, 1) x (0, 0, 2, 12) - AIC:2653.3498906007253\n",
            "ARIMA(1, 0, 1) x (0, 1, 0, 12) - AIC:2733.4104409144716\n",
            "ARIMA(1, 0, 1) x (0, 1, 1, 12) - AIC:2464.733205729707\n",
            "ARIMA(1, 0, 1) x (0, 1, 2, 12) - AIC:2140.5418629840997\n",
            "ARIMA(1, 0, 1) x (0, 2, 0, 12) - AIC:2627.3835578466233\n",
            "ARIMA(1, 0, 1) x (0, 2, 1, 12) - AIC:2301.4490384593187\n",
            "ARIMA(1, 0, 1) x (0, 2, 2, 12) - AIC:2053.4175325244596\n",
            "ARIMA(1, 0, 1) x (1, 0, 0, 12) - AIC:2651.5005019127734\n",
            "ARIMA(1, 0, 1) x (1, 0, 1, 12) - AIC:2624.556846821689\n",
            "ARIMA(1, 0, 1) x (1, 0, 2, 12) - AIC:2383.019547932635\n",
            "ARIMA(1, 0, 1) x (1, 1, 0, 12) - AIC:2474.4145373130973\n",
            "ARIMA(1, 0, 1) x (1, 1, 1, 12) - AIC:2444.290397518884\n"
          ]
        },
        {
          "name": "stderr",
          "output_type": "stream",
          "text": [
            "c:\\Users\\conte\\AppData\\Local\\Programs\\Python\\Python310\\lib\\site-packages\\statsmodels\\base\\model.py:604: ConvergenceWarning: Maximum Likelihood optimization failed to converge. Check mle_retvals\n",
            "  warnings.warn(\"Maximum Likelihood optimization failed to \"\n"
          ]
        },
        {
          "name": "stdout",
          "output_type": "stream",
          "text": [
            "ARIMA(1, 0, 1) x (1, 1, 2, 12) - AIC:2141.424205683612\n",
            "ARIMA(1, 0, 1) x (1, 2, 0, 12) - AIC:2309.7689271500035\n",
            "ARIMA(1, 0, 1) x (1, 2, 1, 12) - AIC:2296.078682832087\n",
            "ARIMA(1, 0, 1) x (1, 2, 2, 12) - AIC:2055.2217532039363\n",
            "ARIMA(1, 0, 1) x (2, 0, 0, 12) - AIC:2399.820294571262\n",
            "ARIMA(1, 0, 1) x (2, 0, 1, 12) - AIC:2401.7757091730305\n",
            "ARIMA(1, 0, 1) x (2, 0, 2, 12) - AIC:2383.8810703650406\n",
            "ARIMA(1, 0, 1) x (2, 1, 0, 12) - AIC:2149.0883426413848\n",
            "ARIMA(1, 0, 1) x (2, 1, 1, 12) - AIC:2150.63244825801\n"
          ]
        },
        {
          "name": "stderr",
          "output_type": "stream",
          "text": [
            "c:\\Users\\conte\\AppData\\Local\\Programs\\Python\\Python310\\lib\\site-packages\\statsmodels\\base\\model.py:604: ConvergenceWarning: Maximum Likelihood optimization failed to converge. Check mle_retvals\n",
            "  warnings.warn(\"Maximum Likelihood optimization failed to \"\n"
          ]
        },
        {
          "name": "stdout",
          "output_type": "stream",
          "text": [
            "ARIMA(1, 0, 1) x (2, 1, 2, 12) - AIC:2135.156107122468\n",
            "ARIMA(1, 0, 1) x (2, 2, 0, 12) - AIC:1996.0503544559488\n",
            "ARIMA(1, 0, 1) x (2, 2, 1, 12) - AIC:1960.4984137364156\n",
            "ARIMA(1, 0, 1) x (2, 2, 2, 12) - AIC:2056.1974253229\n",
            "ARIMA(1, 0, 2) x (0, 0, 0, 12) - AIC:2857.2582060286504\n",
            "ARIMA(1, 0, 2) x (0, 0, 1, 12) - AIC:3022.793395198418\n",
            "ARIMA(1, 0, 2) x (0, 0, 2, 12) - AIC:2601.869807069115\n",
            "ARIMA(1, 0, 2) x (0, 1, 0, 12) - AIC:2716.684267552589\n",
            "ARIMA(1, 0, 2) x (0, 1, 1, 12) - AIC:2446.3487719259374\n",
            "ARIMA(1, 0, 2) x (0, 1, 2, 12) - AIC:2122.4668857998295\n",
            "ARIMA(1, 0, 2) x (0, 2, 0, 12) - AIC:2606.5871097591867\n",
            "ARIMA(1, 0, 2) x (0, 2, 1, 12) - AIC:2284.0369803439758\n",
            "ARIMA(1, 0, 2) x (0, 2, 2, 12) - AIC:2036.7014911589154\n",
            "ARIMA(1, 0, 2) x (1, 0, 0, 12) - AIC:2649.0426752147614\n",
            "ARIMA(1, 0, 2) x (1, 0, 1, 12) - AIC:2604.733006979125\n",
            "ARIMA(1, 0, 2) x (1, 0, 2, 12) - AIC:2359.742840103428\n",
            "ARIMA(1, 0, 2) x (1, 1, 0, 12) - AIC:2473.759785177778\n",
            "ARIMA(1, 0, 2) x (1, 1, 1, 12) - AIC:2438.7210339272597\n",
            "ARIMA(1, 0, 2) x (1, 1, 2, 12) - AIC:2122.7276330218824\n",
            "ARIMA(1, 0, 2) x (1, 2, 0, 12) - AIC:2340.579126207542\n",
            "ARIMA(1, 0, 2) x (1, 2, 1, 12) - AIC:2278.929157561458\n",
            "ARIMA(1, 0, 2) x (1, 2, 2, 12) - AIC:2038.5171601464406\n",
            "ARIMA(1, 0, 2) x (2, 0, 0, 12) - AIC:2393.785603204299\n",
            "ARIMA(1, 0, 2) x (2, 0, 1, 12) - AIC:2395.7543401834982\n"
          ]
        },
        {
          "name": "stderr",
          "output_type": "stream",
          "text": [
            "c:\\Users\\conte\\AppData\\Local\\Programs\\Python\\Python310\\lib\\site-packages\\statsmodels\\base\\model.py:604: ConvergenceWarning: Maximum Likelihood optimization failed to converge. Check mle_retvals\n",
            "  warnings.warn(\"Maximum Likelihood optimization failed to \"\n"
          ]
        },
        {
          "name": "stdout",
          "output_type": "stream",
          "text": [
            "ARIMA(1, 0, 2) x (2, 0, 2, 12) - AIC:2360.0191207183548\n",
            "ARIMA(1, 0, 2) x (2, 1, 0, 12) - AIC:2150.1277035016706\n",
            "ARIMA(1, 0, 2) x (2, 1, 1, 12) - AIC:2151.895235608193\n",
            "ARIMA(1, 0, 2) x (2, 1, 2, 12) - AIC:2110.677244701282\n",
            "ARIMA(1, 0, 2) x (2, 2, 0, 12) - AIC:1997.6076290775886\n",
            "ARIMA(1, 0, 2) x (2, 2, 1, 12) - AIC:1962.4222770182819\n",
            "ARIMA(1, 0, 2) x (2, 2, 2, 12) - AIC:2039.478799757939\n",
            "ARIMA(1, 1, 0) x (0, 0, 0, 12) - AIC:2878.2309688981995\n",
            "ARIMA(1, 1, 0) x (0, 0, 1, 12) - AIC:2634.0619822896333\n",
            "ARIMA(1, 1, 0) x (0, 0, 2, 12) - AIC:2364.6683053553434\n",
            "ARIMA(1, 1, 0) x (0, 1, 0, 12) - AIC:2743.4447713539366\n",
            "ARIMA(1, 1, 0) x (0, 1, 1, 12) - AIC:2460.0102927705734\n",
            "ARIMA(1, 1, 0) x (0, 1, 2, 12) - AIC:2143.4921397101516\n",
            "ARIMA(1, 1, 0) x (0, 2, 0, 12) - AIC:2638.836899011507\n",
            "ARIMA(1, 1, 0) x (0, 2, 1, 12) - AIC:2311.0729176270197\n",
            "ARIMA(1, 1, 0) x (0, 2, 2, 12) - AIC:2064.1205862333068\n",
            "ARIMA(1, 1, 0) x (1, 0, 0, 12) - AIC:2632.1219795122042\n",
            "ARIMA(1, 1, 0) x (1, 0, 1, 12) - AIC:2626.3000714046275\n",
            "ARIMA(1, 1, 0) x (1, 0, 2, 12) - AIC:2364.1158654150813\n",
            "ARIMA(1, 1, 0) x (1, 1, 0, 12) - AIC:2449.394250310479\n",
            "ARIMA(1, 1, 0) x (1, 1, 1, 12) - AIC:2451.364784655275\n"
          ]
        },
        {
          "name": "stderr",
          "output_type": "stream",
          "text": [
            "c:\\Users\\conte\\AppData\\Local\\Programs\\Python\\Python310\\lib\\site-packages\\statsmodels\\base\\model.py:604: ConvergenceWarning: Maximum Likelihood optimization failed to converge. Check mle_retvals\n",
            "  warnings.warn(\"Maximum Likelihood optimization failed to \"\n"
          ]
        },
        {
          "name": "stdout",
          "output_type": "stream",
          "text": [
            "ARIMA(1, 1, 0) x (1, 1, 2, 12) - AIC:2139.183099196294\n",
            "ARIMA(1, 1, 0) x (1, 2, 0, 12) - AIC:2331.181995726179\n",
            "ARIMA(1, 1, 0) x (1, 2, 1, 12) - AIC:2307.2263085576\n",
            "ARIMA(1, 1, 0) x (1, 2, 2, 12) - AIC:2065.7655998369846\n",
            "ARIMA(1, 1, 0) x (2, 0, 0, 12) - AIC:2364.5151385227955\n",
            "ARIMA(1, 1, 0) x (2, 0, 1, 12) - AIC:2362.8921911422062\n",
            "ARIMA(1, 1, 0) x (2, 0, 2, 12) - AIC:2364.454246079195\n",
            "ARIMA(1, 1, 0) x (2, 1, 0, 12) - AIC:2132.9456246565946\n",
            "ARIMA(1, 1, 0) x (2, 1, 1, 12) - AIC:2134.8269055720407\n",
            "ARIMA(1, 1, 0) x (2, 1, 2, 12) - AIC:2136.643819748498\n",
            "ARIMA(1, 1, 0) x (2, 2, 0, 12) - AIC:1980.2571754813337\n",
            "ARIMA(1, 1, 0) x (2, 2, 1, 12) - AIC:1927.5091197748484\n"
          ]
        },
        {
          "name": "stderr",
          "output_type": "stream",
          "text": [
            "c:\\Users\\conte\\AppData\\Local\\Programs\\Python\\Python310\\lib\\site-packages\\statsmodels\\base\\model.py:604: ConvergenceWarning: Maximum Likelihood optimization failed to converge. Check mle_retvals\n",
            "  warnings.warn(\"Maximum Likelihood optimization failed to \"\n"
          ]
        },
        {
          "name": "stdout",
          "output_type": "stream",
          "text": [
            "ARIMA(1, 1, 0) x (2, 2, 2, 12) - AIC:1985.8534428077853\n",
            "ARIMA(1, 1, 1) x (0, 0, 0, 12) - AIC:2857.031702332964\n",
            "ARIMA(1, 1, 1) x (0, 0, 1, 12) - AIC:2613.0733532507084\n",
            "ARIMA(1, 1, 1) x (0, 0, 2, 12) - AIC:2345.177763371063\n",
            "ARIMA(1, 1, 1) x (0, 1, 0, 12) - AIC:2722.651592949501\n",
            "ARIMA(1, 1, 1) x (0, 1, 1, 12) - AIC:2449.0692013144\n",
            "ARIMA(1, 1, 1) x (0, 1, 2, 12) - AIC:2125.109023470918\n",
            "ARIMA(1, 1, 1) x (0, 2, 0, 12) - AIC:2612.021520151684\n",
            "ARIMA(1, 1, 1) x (0, 2, 1, 12) - AIC:2284.701648451895\n",
            "ARIMA(1, 1, 1) x (0, 2, 2, 12) - AIC:2039.0909724180417\n",
            "ARIMA(1, 1, 1) x (1, 0, 0, 12) - AIC:2630.7214375691783\n",
            "ARIMA(1, 1, 1) x (1, 0, 1, 12) - AIC:2603.065472187077\n",
            "ARIMA(1, 1, 1) x (1, 0, 2, 12) - AIC:2330.530079432193\n",
            "ARIMA(1, 1, 1) x (1, 1, 0, 12) - AIC:2445.1658944507008\n",
            "ARIMA(1, 1, 1) x (1, 1, 1, 12) - AIC:2428.756394551252\n"
          ]
        },
        {
          "name": "stderr",
          "output_type": "stream",
          "text": [
            "c:\\Users\\conte\\AppData\\Local\\Programs\\Python\\Python310\\lib\\site-packages\\statsmodels\\base\\model.py:604: ConvergenceWarning: Maximum Likelihood optimization failed to converge. Check mle_retvals\n",
            "  warnings.warn(\"Maximum Likelihood optimization failed to \"\n"
          ]
        },
        {
          "name": "stdout",
          "output_type": "stream",
          "text": [
            "ARIMA(1, 1, 1) x (1, 1, 2, 12) - AIC:2134.365357432608\n",
            "ARIMA(1, 1, 1) x (1, 2, 0, 12) - AIC:2301.045084874868\n"
          ]
        },
        {
          "name": "stderr",
          "output_type": "stream",
          "text": [
            "c:\\Users\\conte\\AppData\\Local\\Programs\\Python\\Python310\\lib\\site-packages\\statsmodels\\base\\model.py:604: ConvergenceWarning: Maximum Likelihood optimization failed to converge. Check mle_retvals\n",
            "  warnings.warn(\"Maximum Likelihood optimization failed to \"\n"
          ]
        },
        {
          "name": "stdout",
          "output_type": "stream",
          "text": [
            "ARIMA(1, 1, 1) x (1, 2, 1, 12) - AIC:2188.524910213438\n",
            "ARIMA(1, 1, 1) x (1, 2, 2, 12) - AIC:2040.7316983997218\n",
            "ARIMA(1, 1, 1) x (2, 0, 0, 12) - AIC:2347.534550167574\n",
            "ARIMA(1, 1, 1) x (2, 0, 1, 12) - AIC:2379.864946302274\n"
          ]
        },
        {
          "name": "stderr",
          "output_type": "stream",
          "text": [
            "c:\\Users\\conte\\AppData\\Local\\Programs\\Python\\Python310\\lib\\site-packages\\statsmodels\\base\\model.py:604: ConvergenceWarning: Maximum Likelihood optimization failed to converge. Check mle_retvals\n",
            "  warnings.warn(\"Maximum Likelihood optimization failed to \"\n"
          ]
        },
        {
          "name": "stdout",
          "output_type": "stream",
          "text": [
            "ARIMA(1, 1, 1) x (2, 0, 2, 12) - AIC:2340.516665202431\n",
            "ARIMA(1, 1, 1) x (2, 1, 0, 12) - AIC:2130.729159154326\n",
            "ARIMA(1, 1, 1) x (2, 1, 1, 12) - AIC:2130.2286522889904\n"
          ]
        },
        {
          "name": "stderr",
          "output_type": "stream",
          "text": [
            "c:\\Users\\conte\\AppData\\Local\\Programs\\Python\\Python310\\lib\\site-packages\\statsmodels\\base\\model.py:604: ConvergenceWarning: Maximum Likelihood optimization failed to converge. Check mle_retvals\n",
            "  warnings.warn(\"Maximum Likelihood optimization failed to \"\n"
          ]
        },
        {
          "name": "stdout",
          "output_type": "stream",
          "text": [
            "ARIMA(1, 1, 1) x (2, 1, 2, 12) - AIC:2112.9753652859736\n"
          ]
        },
        {
          "name": "stderr",
          "output_type": "stream",
          "text": [
            "c:\\Users\\conte\\AppData\\Local\\Programs\\Python\\Python310\\lib\\site-packages\\statsmodels\\base\\model.py:604: ConvergenceWarning: Maximum Likelihood optimization failed to converge. Check mle_retvals\n",
            "  warnings.warn(\"Maximum Likelihood optimization failed to \"\n"
          ]
        },
        {
          "name": "stdout",
          "output_type": "stream",
          "text": [
            "ARIMA(1, 1, 1) x (2, 2, 0, 12) - AIC:1984.2976080121418\n",
            "ARIMA(1, 1, 1) x (2, 2, 1, 12) - AIC:1929.2582732606045\n"
          ]
        },
        {
          "name": "stderr",
          "output_type": "stream",
          "text": [
            "c:\\Users\\conte\\AppData\\Local\\Programs\\Python\\Python310\\lib\\site-packages\\statsmodels\\base\\model.py:604: ConvergenceWarning: Maximum Likelihood optimization failed to converge. Check mle_retvals\n",
            "  warnings.warn(\"Maximum Likelihood optimization failed to \"\n"
          ]
        },
        {
          "name": "stdout",
          "output_type": "stream",
          "text": [
            "ARIMA(1, 1, 1) x (2, 2, 2, 12) - AIC:2030.1905385173472\n",
            "ARIMA(1, 1, 2) x (0, 0, 0, 12) - AIC:2842.0982359284435\n",
            "ARIMA(1, 1, 2) x (0, 0, 1, 12) - AIC:2595.6760682346126\n",
            "ARIMA(1, 1, 2) x (0, 0, 2, 12) - AIC:2264.326942010447\n",
            "ARIMA(1, 1, 2) x (0, 1, 0, 12) - AIC:2705.3814418082925\n",
            "ARIMA(1, 1, 2) x (0, 1, 1, 12) - AIC:2392.550611011189\n"
          ]
        },
        {
          "name": "stderr",
          "output_type": "stream",
          "text": [
            "c:\\Users\\conte\\AppData\\Local\\Programs\\Python\\Python310\\lib\\site-packages\\statsmodels\\base\\model.py:604: ConvergenceWarning: Maximum Likelihood optimization failed to converge. Check mle_retvals\n",
            "  warnings.warn(\"Maximum Likelihood optimization failed to \"\n"
          ]
        },
        {
          "name": "stdout",
          "output_type": "stream",
          "text": [
            "ARIMA(1, 1, 2) x (0, 1, 2, 12) - AIC:2099.062557809193\n",
            "ARIMA(1, 1, 2) x (0, 2, 0, 12) - AIC:2592.614184948864\n"
          ]
        },
        {
          "name": "stderr",
          "output_type": "stream",
          "text": [
            "c:\\Users\\conte\\AppData\\Local\\Programs\\Python\\Python310\\lib\\site-packages\\statsmodels\\base\\model.py:604: ConvergenceWarning: Maximum Likelihood optimization failed to converge. Check mle_retvals\n",
            "  warnings.warn(\"Maximum Likelihood optimization failed to \"\n"
          ]
        },
        {
          "name": "stdout",
          "output_type": "stream",
          "text": [
            "ARIMA(1, 1, 2) x (0, 2, 1, 12) - AIC:2150.376940952326\n",
            "ARIMA(1, 1, 2) x (0, 2, 2, 12) - AIC:2020.6324668587113\n",
            "ARIMA(1, 1, 2) x (1, 0, 0, 12) - AIC:2630.6046770063504\n",
            "ARIMA(1, 1, 2) x (1, 0, 1, 12) - AIC:2582.330024269122\n"
          ]
        },
        {
          "name": "stderr",
          "output_type": "stream",
          "text": [
            "c:\\Users\\conte\\AppData\\Local\\Programs\\Python\\Python310\\lib\\site-packages\\statsmodels\\base\\model.py:604: ConvergenceWarning: Maximum Likelihood optimization failed to converge. Check mle_retvals\n",
            "  warnings.warn(\"Maximum Likelihood optimization failed to \"\n"
          ]
        },
        {
          "name": "stdout",
          "output_type": "stream",
          "text": [
            "ARIMA(1, 1, 2) x (1, 0, 2, 12) - AIC:2265.753759493124\n",
            "ARIMA(1, 1, 2) x (1, 1, 0, 12) - AIC:2445.8117104246903\n",
            "ARIMA(1, 1, 2) x (1, 1, 1, 12) - AIC:2401.4741769002812\n"
          ]
        },
        {
          "name": "stderr",
          "output_type": "stream",
          "text": [
            "c:\\Users\\conte\\AppData\\Local\\Programs\\Python\\Python310\\lib\\site-packages\\statsmodels\\base\\model.py:604: ConvergenceWarning: Maximum Likelihood optimization failed to converge. Check mle_retvals\n",
            "  warnings.warn(\"Maximum Likelihood optimization failed to \"\n"
          ]
        },
        {
          "name": "stdout",
          "output_type": "stream",
          "text": [
            "ARIMA(1, 1, 2) x (1, 1, 2, 12) - AIC:2111.892932016102\n",
            "ARIMA(1, 1, 2) x (1, 2, 0, 12) - AIC:2328.6581836953433\n"
          ]
        },
        {
          "name": "stderr",
          "output_type": "stream",
          "text": [
            "c:\\Users\\conte\\AppData\\Local\\Programs\\Python\\Python310\\lib\\site-packages\\statsmodels\\base\\model.py:604: ConvergenceWarning: Maximum Likelihood optimization failed to converge. Check mle_retvals\n",
            "  warnings.warn(\"Maximum Likelihood optimization failed to \"\n"
          ]
        },
        {
          "name": "stdout",
          "output_type": "stream",
          "text": [
            "ARIMA(1, 1, 2) x (1, 2, 1, 12) - AIC:2141.544150952813\n"
          ]
        },
        {
          "name": "stderr",
          "output_type": "stream",
          "text": [
            "c:\\Users\\conte\\AppData\\Local\\Programs\\Python\\Python310\\lib\\site-packages\\statsmodels\\base\\model.py:604: ConvergenceWarning: Maximum Likelihood optimization failed to converge. Check mle_retvals\n",
            "  warnings.warn(\"Maximum Likelihood optimization failed to \"\n"
          ]
        },
        {
          "name": "stdout",
          "output_type": "stream",
          "text": [
            "ARIMA(1, 1, 2) x (1, 2, 2, 12) - AIC:2018.9316549883215\n",
            "ARIMA(1, 1, 2) x (2, 0, 0, 12) - AIC:2371.3708508204572\n"
          ]
        },
        {
          "name": "stderr",
          "output_type": "stream",
          "text": [
            "c:\\Users\\conte\\AppData\\Local\\Programs\\Python\\Python310\\lib\\site-packages\\statsmodels\\base\\model.py:604: ConvergenceWarning: Maximum Likelihood optimization failed to converge. Check mle_retvals\n",
            "  warnings.warn(\"Maximum Likelihood optimization failed to \"\n"
          ]
        },
        {
          "name": "stdout",
          "output_type": "stream",
          "text": [
            "ARIMA(1, 1, 2) x (2, 0, 1, 12) - AIC:2352.7297388200977\n"
          ]
        },
        {
          "name": "stderr",
          "output_type": "stream",
          "text": [
            "c:\\Users\\conte\\AppData\\Local\\Programs\\Python\\Python310\\lib\\site-packages\\statsmodels\\base\\model.py:604: ConvergenceWarning: Maximum Likelihood optimization failed to converge. Check mle_retvals\n",
            "  warnings.warn(\"Maximum Likelihood optimization failed to \"\n"
          ]
        },
        {
          "name": "stdout",
          "output_type": "stream",
          "text": [
            "ARIMA(1, 1, 2) x (2, 0, 2, 12) - AIC:2267.691468966169\n",
            "ARIMA(1, 1, 2) x (2, 1, 0, 12) - AIC:2130.006332240292\n"
          ]
        },
        {
          "name": "stderr",
          "output_type": "stream",
          "text": [
            "c:\\Users\\conte\\AppData\\Local\\Programs\\Python\\Python310\\lib\\site-packages\\statsmodels\\base\\model.py:604: ConvergenceWarning: Maximum Likelihood optimization failed to converge. Check mle_retvals\n",
            "  warnings.warn(\"Maximum Likelihood optimization failed to \"\n"
          ]
        },
        {
          "name": "stdout",
          "output_type": "stream",
          "text": [
            "ARIMA(1, 1, 2) x (2, 1, 1, 12) - AIC:2131.6497682262134\n"
          ]
        },
        {
          "name": "stderr",
          "output_type": "stream",
          "text": [
            "c:\\Users\\conte\\AppData\\Local\\Programs\\Python\\Python310\\lib\\site-packages\\statsmodels\\base\\model.py:604: ConvergenceWarning: Maximum Likelihood optimization failed to converge. Check mle_retvals\n",
            "  warnings.warn(\"Maximum Likelihood optimization failed to \"\n"
          ]
        },
        {
          "name": "stdout",
          "output_type": "stream",
          "text": [
            "ARIMA(1, 1, 2) x (2, 1, 2, 12) - AIC:2079.698538922181\n"
          ]
        },
        {
          "name": "stderr",
          "output_type": "stream",
          "text": [
            "c:\\Users\\conte\\AppData\\Local\\Programs\\Python\\Python310\\lib\\site-packages\\statsmodels\\base\\model.py:604: ConvergenceWarning: Maximum Likelihood optimization failed to converge. Check mle_retvals\n",
            "  warnings.warn(\"Maximum Likelihood optimization failed to \"\n"
          ]
        },
        {
          "name": "stdout",
          "output_type": "stream",
          "text": [
            "ARIMA(1, 1, 2) x (2, 2, 0, 12) - AIC:1981.433218202274\n"
          ]
        },
        {
          "name": "stderr",
          "output_type": "stream",
          "text": [
            "c:\\Users\\conte\\AppData\\Local\\Programs\\Python\\Python310\\lib\\site-packages\\statsmodels\\base\\model.py:604: ConvergenceWarning: Maximum Likelihood optimization failed to converge. Check mle_retvals\n",
            "  warnings.warn(\"Maximum Likelihood optimization failed to \"\n"
          ]
        },
        {
          "name": "stdout",
          "output_type": "stream",
          "text": [
            "ARIMA(1, 1, 2) x (2, 2, 1, 12) - AIC:1938.7943103676964\n"
          ]
        },
        {
          "name": "stderr",
          "output_type": "stream",
          "text": [
            "c:\\Users\\conte\\AppData\\Local\\Programs\\Python\\Python310\\lib\\site-packages\\statsmodels\\base\\model.py:604: ConvergenceWarning: Maximum Likelihood optimization failed to converge. Check mle_retvals\n",
            "  warnings.warn(\"Maximum Likelihood optimization failed to \"\n"
          ]
        },
        {
          "name": "stdout",
          "output_type": "stream",
          "text": [
            "ARIMA(1, 1, 2) x (2, 2, 2, 12) - AIC:2020.9508720453482\n",
            "ARIMA(1, 2, 0) x (0, 0, 0, 12) - AIC:2949.487019200578\n",
            "ARIMA(1, 2, 0) x (0, 0, 1, 12) - AIC:2693.008678808855\n",
            "ARIMA(1, 2, 0) x (0, 0, 2, 12) - AIC:2406.144600026493\n",
            "ARIMA(1, 2, 0) x (0, 1, 0, 12) - AIC:2808.2976484020037\n",
            "ARIMA(1, 2, 0) x (0, 1, 1, 12) - AIC:2507.8444293465536\n",
            "ARIMA(1, 2, 0) x (0, 1, 2, 12) - AIC:2195.6255765753067\n",
            "ARIMA(1, 2, 0) x (0, 2, 0, 12) - AIC:2693.7737106732425\n",
            "ARIMA(1, 2, 0) x (0, 2, 1, 12) - AIC:2358.581433264729\n",
            "ARIMA(1, 2, 0) x (0, 2, 2, 12) - AIC:1983.5962872274383\n",
            "ARIMA(1, 2, 0) x (1, 0, 0, 12) - AIC:2693.009327463949\n",
            "ARIMA(1, 2, 0) x (1, 0, 1, 12) - AIC:2678.7228389059774\n",
            "ARIMA(1, 2, 0) x (1, 0, 2, 12) - AIC:2407.900050620993\n",
            "ARIMA(1, 2, 0) x (1, 1, 0, 12) - AIC:2517.60743525729\n",
            "ARIMA(1, 2, 0) x (1, 1, 1, 12) - AIC:2519.383880069987\n",
            "ARIMA(1, 2, 0) x (1, 1, 2, 12) - AIC:2198.798037258037\n",
            "ARIMA(1, 2, 0) x (1, 2, 0, 12) - AIC:2345.6542753198296\n",
            "ARIMA(1, 2, 0) x (1, 2, 1, 12) - AIC:2264.049091866873\n",
            "ARIMA(1, 2, 0) x (1, 2, 2, 12) - AIC:2107.845624824652\n",
            "ARIMA(1, 2, 0) x (2, 0, 0, 12) - AIC:2405.895104195739\n",
            "ARIMA(1, 2, 0) x (2, 0, 1, 12) - AIC:2407.876720099607\n"
          ]
        },
        {
          "name": "stderr",
          "output_type": "stream",
          "text": [
            "c:\\Users\\conte\\AppData\\Local\\Programs\\Python\\Python310\\lib\\site-packages\\statsmodels\\base\\model.py:604: ConvergenceWarning: Maximum Likelihood optimization failed to converge. Check mle_retvals\n",
            "  warnings.warn(\"Maximum Likelihood optimization failed to \"\n"
          ]
        },
        {
          "name": "stdout",
          "output_type": "stream",
          "text": [
            "ARIMA(1, 2, 0) x (2, 0, 2, 12) - AIC:2407.967516458064\n",
            "ARIMA(1, 2, 0) x (2, 1, 0, 12) - AIC:2185.0176054548047\n",
            "ARIMA(1, 2, 0) x (2, 1, 1, 12) - AIC:2187.0128179934245\n",
            "ARIMA(1, 2, 0) x (2, 1, 2, 12) - AIC:2195.431211191608\n",
            "ARIMA(1, 2, 0) x (2, 2, 0, 12) - AIC:2024.45674708002\n",
            "ARIMA(1, 2, 0) x (2, 2, 1, 12) - AIC:1977.4465905057389\n"
          ]
        },
        {
          "name": "stderr",
          "output_type": "stream",
          "text": [
            "c:\\Users\\conte\\AppData\\Local\\Programs\\Python\\Python310\\lib\\site-packages\\statsmodels\\base\\model.py:604: ConvergenceWarning: Maximum Likelihood optimization failed to converge. Check mle_retvals\n",
            "  warnings.warn(\"Maximum Likelihood optimization failed to \"\n"
          ]
        },
        {
          "name": "stdout",
          "output_type": "stream",
          "text": [
            "ARIMA(1, 2, 0) x (2, 2, 2, 12) - AIC:1984.0581414062249\n",
            "ARIMA(1, 2, 1) x (0, 0, 0, 12) - AIC:2912.6425914799797\n",
            "ARIMA(1, 2, 1) x (0, 0, 1, 12) - AIC:2617.1883606852693\n",
            "ARIMA(1, 2, 1) x (0, 0, 2, 12) - AIC:2281.6569542312864\n",
            "ARIMA(1, 2, 1) x (0, 1, 0, 12) - AIC:2763.375789697244\n",
            "ARIMA(1, 2, 1) x (0, 1, 1, 12) - AIC:2460.0901245795667\n",
            "ARIMA(1, 2, 1) x (0, 1, 2, 12) - AIC:2102.0842341674156\n",
            "ARIMA(1, 2, 1) x (0, 2, 0, 12) - AIC:2621.0700815304217\n",
            "ARIMA(1, 2, 1) x (0, 2, 1, 12) - AIC:2211.131940824949\n",
            "ARIMA(1, 2, 1) x (0, 2, 2, 12) - AIC:2055.528901075894\n",
            "ARIMA(1, 2, 1) x (1, 0, 0, 12) - AIC:2634.426758833608\n",
            "ARIMA(1, 2, 1) x (1, 0, 1, 12) - AIC:2604.391207352449\n",
            "ARIMA(1, 2, 1) x (1, 0, 2, 12) - AIC:2283.5844117180277\n",
            "ARIMA(1, 2, 1) x (1, 1, 0, 12) - AIC:2464.565216506262\n",
            "ARIMA(1, 2, 1) x (1, 1, 1, 12) - AIC:2440.3987755019098\n"
          ]
        },
        {
          "name": "stderr",
          "output_type": "stream",
          "text": [
            "c:\\Users\\conte\\AppData\\Local\\Programs\\Python\\Python310\\lib\\site-packages\\statsmodels\\base\\model.py:604: ConvergenceWarning: Maximum Likelihood optimization failed to converge. Check mle_retvals\n",
            "  warnings.warn(\"Maximum Likelihood optimization failed to \"\n"
          ]
        },
        {
          "name": "stdout",
          "output_type": "stream",
          "text": [
            "ARIMA(1, 2, 1) x (1, 1, 2, 12) - AIC:2101.976944744601\n",
            "ARIMA(1, 2, 1) x (1, 2, 0, 12) - AIC:2308.6138733693124\n",
            "ARIMA(1, 2, 1) x (1, 2, 1, 12) - AIC:2208.369300073822\n"
          ]
        },
        {
          "name": "stderr",
          "output_type": "stream",
          "text": [
            "c:\\Users\\conte\\AppData\\Local\\Programs\\Python\\Python310\\lib\\site-packages\\statsmodels\\base\\model.py:604: ConvergenceWarning: Maximum Likelihood optimization failed to converge. Check mle_retvals\n",
            "  warnings.warn(\"Maximum Likelihood optimization failed to \"\n"
          ]
        },
        {
          "name": "stdout",
          "output_type": "stream",
          "text": [
            "ARIMA(1, 2, 1) x (1, 2, 2, 12) - AIC:2012.6303979719485\n",
            "ARIMA(1, 2, 1) x (2, 0, 0, 12) - AIC:2388.895183823618\n"
          ]
        },
        {
          "name": "stderr",
          "output_type": "stream",
          "text": [
            "c:\\Users\\conte\\AppData\\Local\\Programs\\Python\\Python310\\lib\\site-packages\\statsmodels\\base\\model.py:604: ConvergenceWarning: Maximum Likelihood optimization failed to converge. Check mle_retvals\n",
            "  warnings.warn(\"Maximum Likelihood optimization failed to \"\n"
          ]
        },
        {
          "name": "stdout",
          "output_type": "stream",
          "text": [
            "ARIMA(1, 2, 1) x (2, 0, 1, 12) - AIC:2350.959887172802\n"
          ]
        },
        {
          "name": "stderr",
          "output_type": "stream",
          "text": [
            "c:\\Users\\conte\\AppData\\Local\\Programs\\Python\\Python310\\lib\\site-packages\\statsmodels\\base\\model.py:604: ConvergenceWarning: Maximum Likelihood optimization failed to converge. Check mle_retvals\n",
            "  warnings.warn(\"Maximum Likelihood optimization failed to \"\n"
          ]
        },
        {
          "name": "stdout",
          "output_type": "stream",
          "text": [
            "ARIMA(1, 2, 1) x (2, 0, 2, 12) - AIC:2272.866849842084\n",
            "ARIMA(1, 2, 1) x (2, 1, 0, 12) - AIC:2154.092516103866\n"
          ]
        },
        {
          "name": "stderr",
          "output_type": "stream",
          "text": [
            "c:\\Users\\conte\\AppData\\Local\\Programs\\Python\\Python310\\lib\\site-packages\\statsmodels\\base\\model.py:604: ConvergenceWarning: Maximum Likelihood optimization failed to converge. Check mle_retvals\n",
            "  warnings.warn(\"Maximum Likelihood optimization failed to \"\n"
          ]
        },
        {
          "name": "stdout",
          "output_type": "stream",
          "text": [
            "ARIMA(1, 2, 1) x (2, 1, 1, 12) - AIC:2141.3789482110296\n"
          ]
        },
        {
          "name": "stderr",
          "output_type": "stream",
          "text": [
            "c:\\Users\\conte\\AppData\\Local\\Programs\\Python\\Python310\\lib\\site-packages\\statsmodels\\base\\model.py:604: ConvergenceWarning: Maximum Likelihood optimization failed to converge. Check mle_retvals\n",
            "  warnings.warn(\"Maximum Likelihood optimization failed to \"\n"
          ]
        },
        {
          "name": "stdout",
          "output_type": "stream",
          "text": [
            "ARIMA(1, 2, 1) x (2, 1, 2, 12) - AIC:2109.592121881016\n",
            "ARIMA(1, 2, 1) x (2, 2, 0, 12) - AIC:1992.1793421055143\n",
            "ARIMA(1, 2, 1) x (2, 2, 1, 12) - AIC:1957.599796730577\n",
            "ARIMA(1, 2, 1) x (2, 2, 2, 12) - AIC:2059.402700937799\n",
            "ARIMA(1, 2, 2) x (0, 0, 0, 12) - AIC:2903.259549908622\n",
            "ARIMA(1, 2, 2) x (0, 0, 1, 12) - AIC:2582.9879721757916\n",
            "ARIMA(1, 2, 2) x (0, 0, 2, 12) - AIC:2254.01411218506\n",
            "ARIMA(1, 2, 2) x (0, 1, 0, 12) - AIC:2736.491850381602\n",
            "ARIMA(1, 2, 2) x (0, 1, 1, 12) - AIC:2415.8940480570623\n"
          ]
        },
        {
          "name": "stderr",
          "output_type": "stream",
          "text": [
            "c:\\Users\\conte\\AppData\\Local\\Programs\\Python\\Python310\\lib\\site-packages\\statsmodels\\base\\model.py:604: ConvergenceWarning: Maximum Likelihood optimization failed to converge. Check mle_retvals\n",
            "  warnings.warn(\"Maximum Likelihood optimization failed to \"\n"
          ]
        },
        {
          "name": "stdout",
          "output_type": "stream",
          "text": [
            "ARIMA(1, 2, 2) x (0, 1, 2, 12) - AIC:2091.554011940546\n",
            "ARIMA(1, 2, 2) x (0, 2, 0, 12) - AIC:2605.7558130388\n"
          ]
        },
        {
          "name": "stderr",
          "output_type": "stream",
          "text": [
            "c:\\Users\\conte\\AppData\\Local\\Programs\\Python\\Python310\\lib\\site-packages\\statsmodels\\base\\model.py:604: ConvergenceWarning: Maximum Likelihood optimization failed to converge. Check mle_retvals\n",
            "  warnings.warn(\"Maximum Likelihood optimization failed to \"\n"
          ]
        },
        {
          "name": "stdout",
          "output_type": "stream",
          "text": [
            "ARIMA(1, 2, 2) x (0, 2, 1, 12) - AIC:2165.9332138611085\n",
            "ARIMA(1, 2, 2) x (0, 2, 2, 12) - AIC:2017.329090442462\n",
            "ARIMA(1, 2, 2) x (1, 0, 0, 12) - AIC:2618.316093222932\n",
            "ARIMA(1, 2, 2) x (1, 0, 1, 12) - AIC:2589.4625146921944\n"
          ]
        },
        {
          "name": "stderr",
          "output_type": "stream",
          "text": [
            "c:\\Users\\conte\\AppData\\Local\\Programs\\Python\\Python310\\lib\\site-packages\\statsmodels\\base\\model.py:604: ConvergenceWarning: Maximum Likelihood optimization failed to converge. Check mle_retvals\n",
            "  warnings.warn(\"Maximum Likelihood optimization failed to \"\n"
          ]
        },
        {
          "name": "stdout",
          "output_type": "stream",
          "text": [
            "ARIMA(1, 2, 2) x (1, 0, 2, 12) - AIC:2255.5703276968306\n",
            "ARIMA(1, 2, 2) x (1, 1, 0, 12) - AIC:2486.8759120213454\n",
            "ARIMA(1, 2, 2) x (1, 1, 1, 12) - AIC:2417.784853897385\n",
            "ARIMA(1, 2, 2) x (1, 1, 2, 12) - AIC:2150.437340173637\n",
            "ARIMA(1, 2, 2) x (1, 2, 0, 12) - AIC:2329.118875719463\n"
          ]
        },
        {
          "name": "stderr",
          "output_type": "stream",
          "text": [
            "c:\\Users\\conte\\AppData\\Local\\Programs\\Python\\Python310\\lib\\site-packages\\statsmodels\\base\\model.py:604: ConvergenceWarning: Maximum Likelihood optimization failed to converge. Check mle_retvals\n",
            "  warnings.warn(\"Maximum Likelihood optimization failed to \"\n"
          ]
        },
        {
          "name": "stdout",
          "output_type": "stream",
          "text": [
            "ARIMA(1, 2, 2) x (1, 2, 1, 12) - AIC:2176.7408402753836\n",
            "ARIMA(1, 2, 2) x (1, 2, 2, 12) - AIC:2019.249558792739\n",
            "ARIMA(1, 2, 2) x (2, 0, 0, 12) - AIC:2359.7476421831184\n",
            "ARIMA(1, 2, 2) x (2, 0, 1, 12) - AIC:2361.747179564418\n"
          ]
        },
        {
          "name": "stderr",
          "output_type": "stream",
          "text": [
            "c:\\Users\\conte\\AppData\\Local\\Programs\\Python\\Python310\\lib\\site-packages\\statsmodels\\base\\model.py:604: ConvergenceWarning: Maximum Likelihood optimization failed to converge. Check mle_retvals\n",
            "  warnings.warn(\"Maximum Likelihood optimization failed to \"\n"
          ]
        },
        {
          "name": "stdout",
          "output_type": "stream",
          "text": [
            "ARIMA(1, 2, 2) x (2, 0, 2, 12) - AIC:2252.5246490078134\n",
            "ARIMA(1, 2, 2) x (2, 1, 0, 12) - AIC:2195.0177397789457\n"
          ]
        },
        {
          "name": "stderr",
          "output_type": "stream",
          "text": [
            "c:\\Users\\conte\\AppData\\Local\\Programs\\Python\\Python310\\lib\\site-packages\\statsmodels\\base\\model.py:604: ConvergenceWarning: Maximum Likelihood optimization failed to converge. Check mle_retvals\n",
            "  warnings.warn(\"Maximum Likelihood optimization failed to \"\n"
          ]
        },
        {
          "name": "stdout",
          "output_type": "stream",
          "text": [
            "ARIMA(1, 2, 2) x (2, 1, 1, 12) - AIC:2190.716286403552\n"
          ]
        },
        {
          "name": "stderr",
          "output_type": "stream",
          "text": [
            "c:\\Users\\conte\\AppData\\Local\\Programs\\Python\\Python310\\lib\\site-packages\\statsmodels\\base\\model.py:604: ConvergenceWarning: Maximum Likelihood optimization failed to converge. Check mle_retvals\n",
            "  warnings.warn(\"Maximum Likelihood optimization failed to \"\n"
          ]
        },
        {
          "name": "stdout",
          "output_type": "stream",
          "text": [
            "ARIMA(1, 2, 2) x (2, 1, 2, 12) - AIC:2131.6106747920153\n",
            "ARIMA(1, 2, 2) x (2, 2, 0, 12) - AIC:2065.5766484147457\n"
          ]
        },
        {
          "name": "stderr",
          "output_type": "stream",
          "text": [
            "c:\\Users\\conte\\AppData\\Local\\Programs\\Python\\Python310\\lib\\site-packages\\statsmodels\\base\\model.py:604: ConvergenceWarning: Maximum Likelihood optimization failed to converge. Check mle_retvals\n",
            "  warnings.warn(\"Maximum Likelihood optimization failed to \"\n"
          ]
        },
        {
          "name": "stdout",
          "output_type": "stream",
          "text": [
            "ARIMA(1, 2, 2) x (2, 2, 1, 12) - AIC:2031.9453411990778\n"
          ]
        },
        {
          "name": "stderr",
          "output_type": "stream",
          "text": [
            "c:\\Users\\conte\\AppData\\Local\\Programs\\Python\\Python310\\lib\\site-packages\\statsmodels\\base\\model.py:604: ConvergenceWarning: Maximum Likelihood optimization failed to converge. Check mle_retvals\n",
            "  warnings.warn(\"Maximum Likelihood optimization failed to \"\n"
          ]
        },
        {
          "name": "stdout",
          "output_type": "stream",
          "text": [
            "ARIMA(1, 2, 2) x (2, 2, 2, 12) - AIC:2021.182144549875\n",
            "ARIMA(2, 0, 0) x (0, 0, 0, 12) - AIC:2879.783956095265\n",
            "ARIMA(2, 0, 0) x (0, 0, 1, 12) - AIC:3084.751030516447\n",
            "ARIMA(2, 0, 0) x (0, 0, 2, 12) - AIC:2683.5589990882345\n",
            "ARIMA(2, 0, 0) x (0, 1, 0, 12) - AIC:2733.1695850645133\n",
            "ARIMA(2, 0, 0) x (0, 1, 1, 12) - AIC:2473.4450848828733\n",
            "ARIMA(2, 0, 0) x (0, 1, 2, 12) - AIC:2160.0584554313787\n",
            "ARIMA(2, 0, 0) x (0, 2, 0, 12) - AIC:2627.7838456414356\n",
            "ARIMA(2, 0, 0) x (0, 2, 1, 12) - AIC:2324.332872167057\n",
            "ARIMA(2, 0, 0) x (0, 2, 2, 12) - AIC:2077.0109826975913\n",
            "ARIMA(2, 0, 0) x (1, 0, 0, 12) - AIC:2635.778031264845\n",
            "ARIMA(2, 0, 0) x (1, 0, 1, 12) - AIC:2625.568288998663\n",
            "ARIMA(2, 0, 0) x (1, 0, 2, 12) - AIC:2401.063954105663\n",
            "ARIMA(2, 0, 0) x (1, 1, 0, 12) - AIC:2455.151621831124\n",
            "ARIMA(2, 0, 0) x (1, 1, 1, 12) - AIC:2444.2640883269896\n",
            "ARIMA(2, 0, 0) x (1, 1, 2, 12) - AIC:2160.12547367278\n",
            "ARIMA(2, 0, 0) x (1, 2, 0, 12) - AIC:2321.9232538025826\n",
            "ARIMA(2, 0, 0) x (1, 2, 1, 12) - AIC:2300.221928601087\n",
            "ARIMA(2, 0, 0) x (1, 2, 2, 12) - AIC:2078.8505354615654\n",
            "ARIMA(2, 0, 0) x (2, 0, 0, 12) - AIC:2382.039105827314\n",
            "ARIMA(2, 0, 0) x (2, 0, 1, 12) - AIC:2383.993673878148\n"
          ]
        },
        {
          "name": "stderr",
          "output_type": "stream",
          "text": [
            "c:\\Users\\conte\\AppData\\Local\\Programs\\Python\\Python310\\lib\\site-packages\\statsmodels\\base\\model.py:604: ConvergenceWarning: Maximum Likelihood optimization failed to converge. Check mle_retvals\n",
            "  warnings.warn(\"Maximum Likelihood optimization failed to \"\n"
          ]
        },
        {
          "name": "stdout",
          "output_type": "stream",
          "text": [
            "ARIMA(2, 0, 0) x (2, 0, 2, 12) - AIC:2384.0466369223473\n",
            "ARIMA(2, 0, 0) x (2, 1, 0, 12) - AIC:2130.322027884554\n",
            "ARIMA(2, 0, 0) x (2, 1, 1, 12) - AIC:2131.3851740891323\n",
            "ARIMA(2, 0, 0) x (2, 1, 2, 12) - AIC:2133.04073826576\n",
            "ARIMA(2, 0, 0) x (2, 2, 0, 12) - AIC:1977.6098359457005\n",
            "ARIMA(2, 0, 0) x (2, 2, 1, 12) - AIC:1977.2208537063107\n",
            "ARIMA(2, 0, 0) x (2, 2, 2, 12) - AIC:2060.3590345007715\n",
            "ARIMA(2, 0, 1) x (0, 0, 0, 12) - AIC:2876.7091083278956\n",
            "ARIMA(2, 0, 1) x (0, 0, 1, 12) - AIC:3064.9912579906268\n"
          ]
        },
        {
          "name": "stderr",
          "output_type": "stream",
          "text": [
            "c:\\Users\\conte\\AppData\\Local\\Programs\\Python\\Python310\\lib\\site-packages\\statsmodels\\base\\model.py:604: ConvergenceWarning: Maximum Likelihood optimization failed to converge. Check mle_retvals\n",
            "  warnings.warn(\"Maximum Likelihood optimization failed to \"\n"
          ]
        },
        {
          "name": "stdout",
          "output_type": "stream",
          "text": [
            "ARIMA(2, 0, 1) x (0, 0, 2, 12) - AIC:2653.808880435382\n",
            "ARIMA(2, 0, 1) x (0, 1, 0, 12) - AIC:2735.1552542592\n",
            "ARIMA(2, 0, 1) x (0, 1, 1, 12) - AIC:2465.8494160102823\n"
          ]
        },
        {
          "name": "stderr",
          "output_type": "stream",
          "text": [
            "c:\\Users\\conte\\AppData\\Local\\Programs\\Python\\Python310\\lib\\site-packages\\statsmodels\\base\\model.py:604: ConvergenceWarning: Maximum Likelihood optimization failed to converge. Check mle_retvals\n",
            "  warnings.warn(\"Maximum Likelihood optimization failed to \"\n"
          ]
        },
        {
          "name": "stdout",
          "output_type": "stream",
          "text": [
            "ARIMA(2, 0, 1) x (0, 1, 2, 12) - AIC:2141.593930611978\n",
            "ARIMA(2, 0, 1) x (0, 2, 0, 12) - AIC:2627.395746421434\n",
            "ARIMA(2, 0, 1) x (0, 2, 1, 12) - AIC:2299.7595609823497\n",
            "ARIMA(2, 0, 1) x (0, 2, 2, 12) - AIC:2055.124190180507\n",
            "ARIMA(2, 0, 1) x (1, 0, 0, 12) - AIC:2632.840957388271\n",
            "ARIMA(2, 0, 1) x (1, 0, 1, 12) - AIC:2625.8735777994652\n",
            "ARIMA(2, 0, 1) x (1, 0, 2, 12) - AIC:2431.405228121038\n",
            "ARIMA(2, 0, 1) x (1, 1, 0, 12) - AIC:2457.741175560249\n",
            "ARIMA(2, 0, 1) x (1, 1, 1, 12) - AIC:2459.6827413092806\n",
            "ARIMA(2, 0, 1) x (1, 1, 2, 12) - AIC:2200.519340673542\n",
            "ARIMA(2, 0, 1) x (1, 2, 0, 12) - AIC:2321.107320331467\n",
            "ARIMA(2, 0, 1) x (1, 2, 1, 12) - AIC:2296.146828367374\n",
            "ARIMA(2, 0, 1) x (1, 2, 2, 12) - AIC:2056.7981155382236\n",
            "ARIMA(2, 0, 1) x (2, 0, 0, 12) - AIC:2438.0150852936367\n"
          ]
        },
        {
          "name": "stderr",
          "output_type": "stream",
          "text": [
            "c:\\Users\\conte\\AppData\\Local\\Programs\\Python\\Python310\\lib\\site-packages\\statsmodels\\base\\model.py:604: ConvergenceWarning: Maximum Likelihood optimization failed to converge. Check mle_retvals\n",
            "  warnings.warn(\"Maximum Likelihood optimization failed to \"\n"
          ]
        },
        {
          "name": "stdout",
          "output_type": "stream",
          "text": [
            "ARIMA(2, 0, 1) x (2, 0, 1, 12) - AIC:2383.44820011768\n",
            "ARIMA(2, 0, 1) x (2, 0, 2, 12) - AIC:2432.7800443522374\n",
            "ARIMA(2, 0, 1) x (2, 1, 0, 12) - AIC:2128.934975666275\n",
            "ARIMA(2, 0, 1) x (2, 1, 1, 12) - AIC:2196.3992818311854\n"
          ]
        },
        {
          "name": "stderr",
          "output_type": "stream",
          "text": [
            "c:\\Users\\conte\\AppData\\Local\\Programs\\Python\\Python310\\lib\\site-packages\\statsmodels\\base\\model.py:604: ConvergenceWarning: Maximum Likelihood optimization failed to converge. Check mle_retvals\n",
            "  warnings.warn(\"Maximum Likelihood optimization failed to \"\n"
          ]
        },
        {
          "name": "stdout",
          "output_type": "stream",
          "text": [
            "ARIMA(2, 0, 1) x (2, 1, 2, 12) - AIC:2153.0971138007453\n"
          ]
        },
        {
          "name": "stderr",
          "output_type": "stream",
          "text": [
            "c:\\Users\\conte\\AppData\\Local\\Programs\\Python\\Python310\\lib\\site-packages\\statsmodels\\base\\model.py:604: ConvergenceWarning: Maximum Likelihood optimization failed to converge. Check mle_retvals\n",
            "  warnings.warn(\"Maximum Likelihood optimization failed to \"\n"
          ]
        },
        {
          "name": "stdout",
          "output_type": "stream",
          "text": [
            "ARIMA(2, 0, 1) x (2, 2, 0, 12) - AIC:1980.5229706599134\n"
          ]
        },
        {
          "name": "stderr",
          "output_type": "stream",
          "text": [
            "c:\\Users\\conte\\AppData\\Local\\Programs\\Python\\Python310\\lib\\site-packages\\statsmodels\\base\\model.py:604: ConvergenceWarning: Maximum Likelihood optimization failed to converge. Check mle_retvals\n",
            "  warnings.warn(\"Maximum Likelihood optimization failed to \"\n"
          ]
        },
        {
          "name": "stdout",
          "output_type": "stream",
          "text": [
            "ARIMA(2, 0, 1) x (2, 2, 1, 12) - AIC:1963.932267689001\n",
            "ARIMA(2, 0, 1) x (2, 2, 2, 12) - AIC:2057.726005757464\n",
            "ARIMA(2, 0, 2) x (0, 0, 0, 12) - AIC:2859.1742129783865\n",
            "ARIMA(2, 0, 2) x (0, 0, 1, 12) - AIC:3024.226689129131\n"
          ]
        },
        {
          "name": "stderr",
          "output_type": "stream",
          "text": [
            "c:\\Users\\conte\\AppData\\Local\\Programs\\Python\\Python310\\lib\\site-packages\\statsmodels\\base\\model.py:604: ConvergenceWarning: Maximum Likelihood optimization failed to converge. Check mle_retvals\n",
            "  warnings.warn(\"Maximum Likelihood optimization failed to \"\n"
          ]
        },
        {
          "name": "stdout",
          "output_type": "stream",
          "text": [
            "ARIMA(2, 0, 2) x (0, 0, 2, 12) - AIC:2368.0067168911537\n",
            "ARIMA(2, 0, 2) x (0, 1, 0, 12) - AIC:2718.7248663179453\n",
            "ARIMA(2, 0, 2) x (0, 1, 1, 12) - AIC:2437.6229457533555\n",
            "ARIMA(2, 0, 2) x (0, 1, 2, 12) - AIC:2177.34463723107\n",
            "ARIMA(2, 0, 2) x (0, 2, 0, 12) - AIC:2607.4321478618303\n",
            "ARIMA(2, 0, 2) x (0, 2, 1, 12) - AIC:2281.511310204931\n",
            "ARIMA(2, 0, 2) x (0, 2, 2, 12) - AIC:2036.9129149165192\n"
          ]
        },
        {
          "name": "stderr",
          "output_type": "stream",
          "text": [
            "c:\\Users\\conte\\AppData\\Local\\Programs\\Python\\Python310\\lib\\site-packages\\statsmodels\\base\\model.py:604: ConvergenceWarning: Maximum Likelihood optimization failed to converge. Check mle_retvals\n",
            "  warnings.warn(\"Maximum Likelihood optimization failed to \"\n"
          ]
        },
        {
          "name": "stdout",
          "output_type": "stream",
          "text": [
            "ARIMA(2, 0, 2) x (1, 0, 0, 12) - AIC:2632.314184575149\n"
          ]
        },
        {
          "name": "stderr",
          "output_type": "stream",
          "text": [
            "c:\\Users\\conte\\AppData\\Local\\Programs\\Python\\Python310\\lib\\site-packages\\statsmodels\\base\\model.py:604: ConvergenceWarning: Maximum Likelihood optimization failed to converge. Check mle_retvals\n",
            "  warnings.warn(\"Maximum Likelihood optimization failed to \"\n"
          ]
        },
        {
          "name": "stdout",
          "output_type": "stream",
          "text": [
            "ARIMA(2, 0, 2) x (1, 0, 1, 12) - AIC:2600.991366123178\n"
          ]
        },
        {
          "name": "stderr",
          "output_type": "stream",
          "text": [
            "c:\\Users\\conte\\AppData\\Local\\Programs\\Python\\Python310\\lib\\site-packages\\statsmodels\\base\\model.py:604: ConvergenceWarning: Maximum Likelihood optimization failed to converge. Check mle_retvals\n",
            "  warnings.warn(\"Maximum Likelihood optimization failed to \"\n"
          ]
        },
        {
          "name": "stdout",
          "output_type": "stream",
          "text": [
            "ARIMA(2, 0, 2) x (1, 0, 2, 12) - AIC:2361.86313054574\n"
          ]
        },
        {
          "name": "stderr",
          "output_type": "stream",
          "text": [
            "c:\\Users\\conte\\AppData\\Local\\Programs\\Python\\Python310\\lib\\site-packages\\statsmodels\\base\\model.py:604: ConvergenceWarning: Maximum Likelihood optimization failed to converge. Check mle_retvals\n",
            "  warnings.warn(\"Maximum Likelihood optimization failed to \"\n"
          ]
        },
        {
          "name": "stdout",
          "output_type": "stream",
          "text": [
            "ARIMA(2, 0, 2) x (1, 1, 0, 12) - AIC:2443.8577915593596\n",
            "ARIMA(2, 0, 2) x (1, 1, 1, 12) - AIC:2439.9391253907565\n"
          ]
        },
        {
          "name": "stderr",
          "output_type": "stream",
          "text": [
            "c:\\Users\\conte\\AppData\\Local\\Programs\\Python\\Python310\\lib\\site-packages\\statsmodels\\base\\model.py:604: ConvergenceWarning: Maximum Likelihood optimization failed to converge. Check mle_retvals\n",
            "  warnings.warn(\"Maximum Likelihood optimization failed to \"\n"
          ]
        },
        {
          "name": "stdout",
          "output_type": "stream",
          "text": [
            "ARIMA(2, 0, 2) x (1, 1, 2, 12) - AIC:2176.546899974862\n",
            "ARIMA(2, 0, 2) x (1, 2, 0, 12) - AIC:2321.0343586149315\n",
            "ARIMA(2, 0, 2) x (1, 2, 1, 12) - AIC:2281.021878187874\n",
            "ARIMA(2, 0, 2) x (1, 2, 2, 12) - AIC:2038.600003570343\n"
          ]
        },
        {
          "name": "stderr",
          "output_type": "stream",
          "text": [
            "c:\\Users\\conte\\AppData\\Local\\Programs\\Python\\Python310\\lib\\site-packages\\statsmodels\\base\\model.py:604: ConvergenceWarning: Maximum Likelihood optimization failed to converge. Check mle_retvals\n",
            "  warnings.warn(\"Maximum Likelihood optimization failed to \"\n"
          ]
        },
        {
          "name": "stdout",
          "output_type": "stream",
          "text": [
            "ARIMA(2, 0, 2) x (2, 0, 0, 12) - AIC:2367.430769247066\n"
          ]
        },
        {
          "name": "stderr",
          "output_type": "stream",
          "text": [
            "c:\\Users\\conte\\AppData\\Local\\Programs\\Python\\Python310\\lib\\site-packages\\statsmodels\\base\\model.py:604: ConvergenceWarning: Maximum Likelihood optimization failed to converge. Check mle_retvals\n",
            "  warnings.warn(\"Maximum Likelihood optimization failed to \"\n"
          ]
        },
        {
          "name": "stdout",
          "output_type": "stream",
          "text": [
            "ARIMA(2, 0, 2) x (2, 0, 1, 12) - AIC:2377.4242395293286\n"
          ]
        },
        {
          "name": "stderr",
          "output_type": "stream",
          "text": [
            "c:\\Users\\conte\\AppData\\Local\\Programs\\Python\\Python310\\lib\\site-packages\\statsmodels\\base\\model.py:604: ConvergenceWarning: Maximum Likelihood optimization failed to converge. Check mle_retvals\n",
            "  warnings.warn(\"Maximum Likelihood optimization failed to \"\n"
          ]
        },
        {
          "name": "stdout",
          "output_type": "stream",
          "text": [
            "ARIMA(2, 0, 2) x (2, 0, 2, 12) - AIC:2357.4154508415995\n"
          ]
        },
        {
          "name": "stderr",
          "output_type": "stream",
          "text": [
            "c:\\Users\\conte\\AppData\\Local\\Programs\\Python\\Python310\\lib\\site-packages\\statsmodels\\base\\model.py:604: ConvergenceWarning: Maximum Likelihood optimization failed to converge. Check mle_retvals\n",
            "  warnings.warn(\"Maximum Likelihood optimization failed to \"\n"
          ]
        },
        {
          "name": "stdout",
          "output_type": "stream",
          "text": [
            "ARIMA(2, 0, 2) x (2, 1, 0, 12) - AIC:2125.9392884370745\n"
          ]
        },
        {
          "name": "stderr",
          "output_type": "stream",
          "text": [
            "c:\\Users\\conte\\AppData\\Local\\Programs\\Python\\Python310\\lib\\site-packages\\statsmodels\\base\\model.py:604: ConvergenceWarning: Maximum Likelihood optimization failed to converge. Check mle_retvals\n",
            "  warnings.warn(\"Maximum Likelihood optimization failed to \"\n"
          ]
        },
        {
          "name": "stdout",
          "output_type": "stream",
          "text": [
            "ARIMA(2, 0, 2) x (2, 1, 1, 12) - AIC:2179.3287744838194\n"
          ]
        },
        {
          "name": "stderr",
          "output_type": "stream",
          "text": [
            "c:\\Users\\conte\\AppData\\Local\\Programs\\Python\\Python310\\lib\\site-packages\\statsmodels\\base\\model.py:604: ConvergenceWarning: Maximum Likelihood optimization failed to converge. Check mle_retvals\n",
            "  warnings.warn(\"Maximum Likelihood optimization failed to \"\n"
          ]
        },
        {
          "name": "stdout",
          "output_type": "stream",
          "text": [
            "ARIMA(2, 0, 2) x (2, 1, 2, 12) - AIC:2157.895710582635\n"
          ]
        },
        {
          "name": "stderr",
          "output_type": "stream",
          "text": [
            "c:\\Users\\conte\\AppData\\Local\\Programs\\Python\\Python310\\lib\\site-packages\\statsmodels\\base\\model.py:604: ConvergenceWarning: Maximum Likelihood optimization failed to converge. Check mle_retvals\n",
            "  warnings.warn(\"Maximum Likelihood optimization failed to \"\n"
          ]
        },
        {
          "name": "stdout",
          "output_type": "stream",
          "text": [
            "ARIMA(2, 0, 2) x (2, 2, 0, 12) - AIC:2060.2260817217657\n"
          ]
        },
        {
          "name": "stderr",
          "output_type": "stream",
          "text": [
            "c:\\Users\\conte\\AppData\\Local\\Programs\\Python\\Python310\\lib\\site-packages\\statsmodels\\base\\model.py:604: ConvergenceWarning: Maximum Likelihood optimization failed to converge. Check mle_retvals\n",
            "  warnings.warn(\"Maximum Likelihood optimization failed to \"\n"
          ]
        },
        {
          "name": "stdout",
          "output_type": "stream",
          "text": [
            "ARIMA(2, 0, 2) x (2, 2, 1, 12) - AIC:2047.0886584869884\n"
          ]
        },
        {
          "name": "stderr",
          "output_type": "stream",
          "text": [
            "c:\\Users\\conte\\AppData\\Local\\Programs\\Python\\Python310\\lib\\site-packages\\statsmodels\\base\\model.py:604: ConvergenceWarning: Maximum Likelihood optimization failed to converge. Check mle_retvals\n",
            "  warnings.warn(\"Maximum Likelihood optimization failed to \"\n"
          ]
        },
        {
          "name": "stdout",
          "output_type": "stream",
          "text": [
            "ARIMA(2, 0, 2) x (2, 2, 2, 12) - AIC:2039.54131583093\n",
            "ARIMA(2, 1, 0) x (0, 0, 0, 12) - AIC:2859.932542484333\n",
            "ARIMA(2, 1, 0) x (0, 0, 1, 12) - AIC:2634.938898980273\n",
            "ARIMA(2, 1, 0) x (0, 0, 2, 12) - AIC:2366.123284609161\n",
            "ARIMA(2, 1, 0) x (0, 1, 0, 12) - AIC:2724.3630850876043\n",
            "ARIMA(2, 1, 0) x (0, 1, 1, 12) - AIC:2470.383384094117\n",
            "ARIMA(2, 1, 0) x (0, 1, 2, 12) - AIC:2142.1940342472194\n",
            "ARIMA(2, 1, 0) x (0, 2, 0, 12) - AIC:2619.0981259659184\n",
            "ARIMA(2, 1, 0) x (0, 2, 1, 12) - AIC:2310.9362641024313\n",
            "ARIMA(2, 1, 0) x (0, 2, 2, 12) - AIC:2064.7327596347086\n",
            "ARIMA(2, 1, 0) x (1, 0, 0, 12) - AIC:2617.276315794784\n",
            "ARIMA(2, 1, 0) x (1, 0, 1, 12) - AIC:2609.9687522324407\n",
            "ARIMA(2, 1, 0) x (1, 0, 2, 12) - AIC:2365.4648981635446\n",
            "ARIMA(2, 1, 0) x (1, 1, 0, 12) - AIC:2431.470856988157\n",
            "ARIMA(2, 1, 0) x (1, 1, 1, 12) - AIC:2433.425803043648\n"
          ]
        },
        {
          "name": "stderr",
          "output_type": "stream",
          "text": [
            "c:\\Users\\conte\\AppData\\Local\\Programs\\Python\\Python310\\lib\\site-packages\\statsmodels\\base\\model.py:604: ConvergenceWarning: Maximum Likelihood optimization failed to converge. Check mle_retvals\n",
            "  warnings.warn(\"Maximum Likelihood optimization failed to \"\n"
          ]
        },
        {
          "name": "stdout",
          "output_type": "stream",
          "text": [
            "ARIMA(2, 1, 0) x (1, 1, 2, 12) - AIC:2137.499818008493\n",
            "ARIMA(2, 1, 0) x (1, 2, 0, 12) - AIC:2280.206550040316\n",
            "ARIMA(2, 1, 0) x (1, 2, 1, 12) - AIC:2191.6401239982447\n"
          ]
        },
        {
          "name": "stderr",
          "output_type": "stream",
          "text": [
            "c:\\Users\\conte\\AppData\\Local\\Programs\\Python\\Python310\\lib\\site-packages\\statsmodels\\base\\model.py:604: ConvergenceWarning: Maximum Likelihood optimization failed to converge. Check mle_retvals\n",
            "  warnings.warn(\"Maximum Likelihood optimization failed to \"\n"
          ]
        },
        {
          "name": "stdout",
          "output_type": "stream",
          "text": [
            "ARIMA(2, 1, 0) x (1, 2, 2, 12) - AIC:1939.8257016835373\n",
            "ARIMA(2, 1, 0) x (2, 0, 0, 12) - AIC:2348.867022560666\n",
            "ARIMA(2, 1, 0) x (2, 0, 1, 12) - AIC:2347.1141012968183\n"
          ]
        },
        {
          "name": "stderr",
          "output_type": "stream",
          "text": [
            "c:\\Users\\conte\\AppData\\Local\\Programs\\Python\\Python310\\lib\\site-packages\\statsmodels\\base\\model.py:604: ConvergenceWarning: Maximum Likelihood optimization failed to converge. Check mle_retvals\n",
            "  warnings.warn(\"Maximum Likelihood optimization failed to \"\n"
          ]
        },
        {
          "name": "stdout",
          "output_type": "stream",
          "text": [
            "ARIMA(2, 1, 0) x (2, 0, 2, 12) - AIC:2348.516134983194\n",
            "ARIMA(2, 1, 0) x (2, 1, 0, 12) - AIC:2111.9492576468447\n",
            "ARIMA(2, 1, 0) x (2, 1, 1, 12) - AIC:2113.8105268441823\n",
            "ARIMA(2, 1, 0) x (2, 1, 2, 12) - AIC:2115.5930534221156\n",
            "ARIMA(2, 1, 0) x (2, 2, 0, 12) - AIC:1960.113590141939\n",
            "ARIMA(2, 1, 0) x (2, 2, 1, 12) - AIC:1911.6851560802963\n"
          ]
        },
        {
          "name": "stderr",
          "output_type": "stream",
          "text": [
            "c:\\Users\\conte\\AppData\\Local\\Programs\\Python\\Python310\\lib\\site-packages\\statsmodels\\base\\model.py:604: ConvergenceWarning: Maximum Likelihood optimization failed to converge. Check mle_retvals\n",
            "  warnings.warn(\"Maximum Likelihood optimization failed to \"\n"
          ]
        },
        {
          "name": "stdout",
          "output_type": "stream",
          "text": [
            "ARIMA(2, 1, 0) x (2, 2, 2, 12) - AIC:1914.6781054660212\n",
            "ARIMA(2, 1, 1) x (0, 0, 0, 12) - AIC:2857.190460186982\n",
            "ARIMA(2, 1, 1) x (0, 0, 1, 12) - AIC:2614.5753803679963\n",
            "ARIMA(2, 1, 1) x (0, 0, 2, 12) - AIC:2345.79857024813\n",
            "ARIMA(2, 1, 1) x (0, 1, 0, 12) - AIC:2741.281881870619\n",
            "ARIMA(2, 1, 1) x (0, 1, 1, 12) - AIC:2450.591283393779\n"
          ]
        },
        {
          "name": "stderr",
          "output_type": "stream",
          "text": [
            "c:\\Users\\conte\\AppData\\Local\\Programs\\Python\\Python310\\lib\\site-packages\\statsmodels\\base\\model.py:604: ConvergenceWarning: Maximum Likelihood optimization failed to converge. Check mle_retvals\n",
            "  warnings.warn(\"Maximum Likelihood optimization failed to \"\n"
          ]
        },
        {
          "name": "stdout",
          "output_type": "stream",
          "text": [
            "ARIMA(2, 1, 1) x (0, 1, 2, 12) - AIC:2132.3374111704693\n",
            "ARIMA(2, 1, 1) x (0, 2, 0, 12) - AIC:2617.4621658326105\n",
            "ARIMA(2, 1, 1) x (0, 2, 1, 12) - AIC:2210.617206221504\n"
          ]
        },
        {
          "name": "stderr",
          "output_type": "stream",
          "text": [
            "c:\\Users\\conte\\AppData\\Local\\Programs\\Python\\Python310\\lib\\site-packages\\statsmodels\\base\\model.py:604: ConvergenceWarning: Maximum Likelihood optimization failed to converge. Check mle_retvals\n",
            "  warnings.warn(\"Maximum Likelihood optimization failed to \"\n"
          ]
        },
        {
          "name": "stdout",
          "output_type": "stream",
          "text": [
            "ARIMA(2, 1, 1) x (0, 2, 2, 12) - AIC:2038.86611702692\n",
            "ARIMA(2, 1, 1) x (1, 0, 0, 12) - AIC:2614.575316216251\n",
            "ARIMA(2, 1, 1) x (1, 0, 1, 12) - AIC:2604.0007251589986\n"
          ]
        },
        {
          "name": "stderr",
          "output_type": "stream",
          "text": [
            "c:\\Users\\conte\\AppData\\Local\\Programs\\Python\\Python310\\lib\\site-packages\\statsmodels\\base\\model.py:604: ConvergenceWarning: Maximum Likelihood optimization failed to converge. Check mle_retvals\n",
            "  warnings.warn(\"Maximum Likelihood optimization failed to \"\n"
          ]
        },
        {
          "name": "stdout",
          "output_type": "stream",
          "text": [
            "ARIMA(2, 1, 1) x (1, 0, 2, 12) - AIC:2357.380165802164\n"
          ]
        },
        {
          "name": "stderr",
          "output_type": "stream",
          "text": [
            "c:\\Users\\conte\\AppData\\Local\\Programs\\Python\\Python310\\lib\\site-packages\\statsmodels\\base\\model.py:604: ConvergenceWarning: Maximum Likelihood optimization failed to converge. Check mle_retvals\n",
            "  warnings.warn(\"Maximum Likelihood optimization failed to \"\n"
          ]
        },
        {
          "name": "stdout",
          "output_type": "stream",
          "text": [
            "ARIMA(2, 1, 1) x (1, 1, 0, 12) - AIC:2428.183414607931\n",
            "ARIMA(2, 1, 1) x (1, 1, 1, 12) - AIC:2445.0749193324773\n"
          ]
        },
        {
          "name": "stderr",
          "output_type": "stream",
          "text": [
            "c:\\Users\\conte\\AppData\\Local\\Programs\\Python\\Python310\\lib\\site-packages\\statsmodels\\base\\model.py:604: ConvergenceWarning: Maximum Likelihood optimization failed to converge. Check mle_retvals\n",
            "  warnings.warn(\"Maximum Likelihood optimization failed to \"\n"
          ]
        },
        {
          "name": "stdout",
          "output_type": "stream",
          "text": [
            "ARIMA(2, 1, 1) x (1, 1, 2, 12) - AIC:2117.168439044869\n",
            "ARIMA(2, 1, 1) x (1, 2, 0, 12) - AIC:2309.271759394692\n"
          ]
        },
        {
          "name": "stderr",
          "output_type": "stream",
          "text": [
            "c:\\Users\\conte\\AppData\\Local\\Programs\\Python\\Python310\\lib\\site-packages\\statsmodels\\base\\model.py:604: ConvergenceWarning: Maximum Likelihood optimization failed to converge. Check mle_retvals\n",
            "  warnings.warn(\"Maximum Likelihood optimization failed to \"\n"
          ]
        },
        {
          "name": "stdout",
          "output_type": "stream",
          "text": [
            "ARIMA(2, 1, 1) x (1, 2, 1, 12) - AIC:2222.600389799515\n"
          ]
        },
        {
          "name": "stderr",
          "output_type": "stream",
          "text": [
            "c:\\Users\\conte\\AppData\\Local\\Programs\\Python\\Python310\\lib\\site-packages\\statsmodels\\base\\model.py:604: ConvergenceWarning: Maximum Likelihood optimization failed to converge. Check mle_retvals\n",
            "  warnings.warn(\"Maximum Likelihood optimization failed to \"\n"
          ]
        },
        {
          "name": "stdout",
          "output_type": "stream",
          "text": [
            "ARIMA(2, 1, 1) x (1, 2, 2, 12) - AIC:2029.0795566085478\n",
            "ARIMA(2, 1, 1) x (2, 0, 0, 12) - AIC:2344.6977535081505\n"
          ]
        },
        {
          "name": "stderr",
          "output_type": "stream",
          "text": [
            "c:\\Users\\conte\\AppData\\Local\\Programs\\Python\\Python310\\lib\\site-packages\\statsmodels\\base\\model.py:604: ConvergenceWarning: Maximum Likelihood optimization failed to converge. Check mle_retvals\n",
            "  warnings.warn(\"Maximum Likelihood optimization failed to \"\n"
          ]
        },
        {
          "name": "stdout",
          "output_type": "stream",
          "text": [
            "ARIMA(2, 1, 1) x (2, 0, 1, 12) - AIC:2342.452239000788\n"
          ]
        },
        {
          "name": "stderr",
          "output_type": "stream",
          "text": [
            "c:\\Users\\conte\\AppData\\Local\\Programs\\Python\\Python310\\lib\\site-packages\\statsmodels\\base\\model.py:604: ConvergenceWarning: Maximum Likelihood optimization failed to converge. Check mle_retvals\n",
            "  warnings.warn(\"Maximum Likelihood optimization failed to \"\n"
          ]
        },
        {
          "name": "stdout",
          "output_type": "stream",
          "text": [
            "ARIMA(2, 1, 1) x (2, 0, 2, 12) - AIC:2341.5786926057535\n",
            "ARIMA(2, 1, 1) x (2, 1, 0, 12) - AIC:2106.5822030100303\n",
            "ARIMA(2, 1, 1) x (2, 1, 1, 12) - AIC:2115.683238689035\n"
          ]
        },
        {
          "name": "stderr",
          "output_type": "stream",
          "text": [
            "c:\\Users\\conte\\AppData\\Local\\Programs\\Python\\Python310\\lib\\site-packages\\statsmodels\\base\\model.py:604: ConvergenceWarning: Maximum Likelihood optimization failed to converge. Check mle_retvals\n",
            "  warnings.warn(\"Maximum Likelihood optimization failed to \"\n"
          ]
        },
        {
          "name": "stdout",
          "output_type": "stream",
          "text": [
            "ARIMA(2, 1, 1) x (2, 1, 2, 12) - AIC:2123.4528641596553\n"
          ]
        },
        {
          "name": "stderr",
          "output_type": "stream",
          "text": [
            "c:\\Users\\conte\\AppData\\Local\\Programs\\Python\\Python310\\lib\\site-packages\\statsmodels\\base\\model.py:604: ConvergenceWarning: Maximum Likelihood optimization failed to converge. Check mle_retvals\n",
            "  warnings.warn(\"Maximum Likelihood optimization failed to \"\n"
          ]
        },
        {
          "name": "stdout",
          "output_type": "stream",
          "text": [
            "ARIMA(2, 1, 1) x (2, 2, 0, 12) - AIC:1962.1144588990503\n"
          ]
        },
        {
          "name": "stderr",
          "output_type": "stream",
          "text": [
            "c:\\Users\\conte\\AppData\\Local\\Programs\\Python\\Python310\\lib\\site-packages\\statsmodels\\base\\model.py:604: ConvergenceWarning: Maximum Likelihood optimization failed to converge. Check mle_retvals\n",
            "  warnings.warn(\"Maximum Likelihood optimization failed to \"\n"
          ]
        },
        {
          "name": "stdout",
          "output_type": "stream",
          "text": [
            "ARIMA(2, 1, 1) x (2, 2, 1, 12) - AIC:1913.128642361734\n"
          ]
        },
        {
          "name": "stderr",
          "output_type": "stream",
          "text": [
            "c:\\Users\\conte\\AppData\\Local\\Programs\\Python\\Python310\\lib\\site-packages\\statsmodels\\base\\model.py:604: ConvergenceWarning: Maximum Likelihood optimization failed to converge. Check mle_retvals\n",
            "  warnings.warn(\"Maximum Likelihood optimization failed to \"\n"
          ]
        },
        {
          "name": "stdout",
          "output_type": "stream",
          "text": [
            "ARIMA(2, 1, 1) x (2, 2, 2, 12) - AIC:2041.902998074498\n",
            "ARIMA(2, 1, 2) x (0, 0, 0, 12) - AIC:2840.1757667599068\n",
            "ARIMA(2, 1, 2) x (0, 0, 1, 12) - AIC:2587.7762894000634\n"
          ]
        },
        {
          "name": "stderr",
          "output_type": "stream",
          "text": [
            "c:\\Users\\conte\\AppData\\Local\\Programs\\Python\\Python310\\lib\\site-packages\\statsmodels\\base\\model.py:604: ConvergenceWarning: Maximum Likelihood optimization failed to converge. Check mle_retvals\n",
            "  warnings.warn(\"Maximum Likelihood optimization failed to \"\n"
          ]
        },
        {
          "name": "stdout",
          "output_type": "stream",
          "text": [
            "ARIMA(2, 1, 2) x (0, 0, 2, 12) - AIC:2266.5344291817273\n",
            "ARIMA(2, 1, 2) x (0, 1, 0, 12) - AIC:2706.9828915401363\n"
          ]
        },
        {
          "name": "stderr",
          "output_type": "stream",
          "text": [
            "c:\\Users\\conte\\AppData\\Local\\Programs\\Python\\Python310\\lib\\site-packages\\statsmodels\\base\\model.py:604: ConvergenceWarning: Maximum Likelihood optimization failed to converge. Check mle_retvals\n",
            "  warnings.warn(\"Maximum Likelihood optimization failed to \"\n"
          ]
        },
        {
          "name": "stdout",
          "output_type": "stream",
          "text": [
            "ARIMA(2, 1, 2) x (0, 1, 1, 12) - AIC:2382.4068797115033\n"
          ]
        },
        {
          "name": "stderr",
          "output_type": "stream",
          "text": [
            "c:\\Users\\conte\\AppData\\Local\\Programs\\Python\\Python310\\lib\\site-packages\\statsmodels\\base\\model.py:604: ConvergenceWarning: Maximum Likelihood optimization failed to converge. Check mle_retvals\n",
            "  warnings.warn(\"Maximum Likelihood optimization failed to \"\n"
          ]
        },
        {
          "name": "stdout",
          "output_type": "stream",
          "text": [
            "ARIMA(2, 1, 2) x (0, 1, 2, 12) - AIC:2154.0008684966792\n",
            "ARIMA(2, 1, 2) x (0, 2, 0, 12) - AIC:2594.3373490707686\n"
          ]
        },
        {
          "name": "stderr",
          "output_type": "stream",
          "text": [
            "c:\\Users\\conte\\AppData\\Local\\Programs\\Python\\Python310\\lib\\site-packages\\statsmodels\\base\\model.py:604: ConvergenceWarning: Maximum Likelihood optimization failed to converge. Check mle_retvals\n",
            "  warnings.warn(\"Maximum Likelihood optimization failed to \"\n"
          ]
        },
        {
          "name": "stdout",
          "output_type": "stream",
          "text": [
            "ARIMA(2, 1, 2) x (0, 2, 1, 12) - AIC:2150.595064181442\n"
          ]
        },
        {
          "name": "stderr",
          "output_type": "stream",
          "text": [
            "c:\\Users\\conte\\AppData\\Local\\Programs\\Python\\Python310\\lib\\site-packages\\statsmodels\\base\\model.py:604: ConvergenceWarning: Maximum Likelihood optimization failed to converge. Check mle_retvals\n",
            "  warnings.warn(\"Maximum Likelihood optimization failed to \"\n"
          ]
        },
        {
          "name": "stdout",
          "output_type": "stream",
          "text": [
            "ARIMA(2, 1, 2) x (0, 2, 2, 12) - AIC:2021.9171895006489\n",
            "ARIMA(2, 1, 2) x (1, 0, 0, 12) - AIC:2605.501717561731\n",
            "ARIMA(2, 1, 2) x (1, 0, 1, 12) - AIC:2582.6938452718227\n"
          ]
        },
        {
          "name": "stderr",
          "output_type": "stream",
          "text": [
            "c:\\Users\\conte\\AppData\\Local\\Programs\\Python\\Python310\\lib\\site-packages\\statsmodels\\base\\model.py:604: ConvergenceWarning: Maximum Likelihood optimization failed to converge. Check mle_retvals\n",
            "  warnings.warn(\"Maximum Likelihood optimization failed to \"\n"
          ]
        },
        {
          "name": "stdout",
          "output_type": "stream",
          "text": [
            "ARIMA(2, 1, 2) x (1, 0, 2, 12) - AIC:2269.3004666997545\n",
            "ARIMA(2, 1, 2) x (1, 1, 0, 12) - AIC:2434.7952472678503\n"
          ]
        },
        {
          "name": "stderr",
          "output_type": "stream",
          "text": [
            "c:\\Users\\conte\\AppData\\Local\\Programs\\Python\\Python310\\lib\\site-packages\\statsmodels\\base\\model.py:604: ConvergenceWarning: Maximum Likelihood optimization failed to converge. Check mle_retvals\n",
            "  warnings.warn(\"Maximum Likelihood optimization failed to \"\n"
          ]
        },
        {
          "name": "stdout",
          "output_type": "stream",
          "text": [
            "ARIMA(2, 1, 2) x (1, 1, 1, 12) - AIC:2374.6678388772607\n"
          ]
        },
        {
          "name": "stderr",
          "output_type": "stream",
          "text": [
            "c:\\Users\\conte\\AppData\\Local\\Programs\\Python\\Python310\\lib\\site-packages\\statsmodels\\base\\model.py:604: ConvergenceWarning: Maximum Likelihood optimization failed to converge. Check mle_retvals\n",
            "  warnings.warn(\"Maximum Likelihood optimization failed to \"\n"
          ]
        },
        {
          "name": "stdout",
          "output_type": "stream",
          "text": [
            "ARIMA(2, 1, 2) x (1, 1, 2, 12) - AIC:2151.3867458913687\n",
            "ARIMA(2, 1, 2) x (1, 2, 0, 12) - AIC:2301.0161547215125\n"
          ]
        },
        {
          "name": "stderr",
          "output_type": "stream",
          "text": [
            "c:\\Users\\conte\\AppData\\Local\\Programs\\Python\\Python310\\lib\\site-packages\\statsmodels\\base\\model.py:604: ConvergenceWarning: Maximum Likelihood optimization failed to converge. Check mle_retvals\n",
            "  warnings.warn(\"Maximum Likelihood optimization failed to \"\n"
          ]
        },
        {
          "name": "stdout",
          "output_type": "stream",
          "text": [
            "ARIMA(2, 1, 2) x (1, 2, 1, 12) - AIC:2217.978866125841\n",
            "ARIMA(2, 1, 2) x (1, 2, 2, 12) - AIC:2022.9182307555195\n",
            "ARIMA(2, 1, 2) x (2, 0, 0, 12) - AIC:2345.643695413074\n",
            "ARIMA(2, 1, 2) x (2, 0, 1, 12) - AIC:2344.655911116922\n"
          ]
        },
        {
          "name": "stderr",
          "output_type": "stream",
          "text": [
            "c:\\Users\\conte\\AppData\\Local\\Programs\\Python\\Python310\\lib\\site-packages\\statsmodels\\base\\model.py:604: ConvergenceWarning: Maximum Likelihood optimization failed to converge. Check mle_retvals\n",
            "  warnings.warn(\"Maximum Likelihood optimization failed to \"\n"
          ]
        },
        {
          "name": "stdout",
          "output_type": "stream",
          "text": [
            "ARIMA(2, 1, 2) x (2, 0, 2, 12) - AIC:2290.134926804615\n"
          ]
        },
        {
          "name": "stderr",
          "output_type": "stream",
          "text": [
            "c:\\Users\\conte\\AppData\\Local\\Programs\\Python\\Python310\\lib\\site-packages\\statsmodels\\base\\model.py:604: ConvergenceWarning: Maximum Likelihood optimization failed to converge. Check mle_retvals\n",
            "  warnings.warn(\"Maximum Likelihood optimization failed to \"\n"
          ]
        },
        {
          "name": "stdout",
          "output_type": "stream",
          "text": [
            "ARIMA(2, 1, 2) x (2, 1, 0, 12) - AIC:2125.648755564692\n"
          ]
        },
        {
          "name": "stderr",
          "output_type": "stream",
          "text": [
            "c:\\Users\\conte\\AppData\\Local\\Programs\\Python\\Python310\\lib\\site-packages\\statsmodels\\base\\model.py:604: ConvergenceWarning: Maximum Likelihood optimization failed to converge. Check mle_retvals\n",
            "  warnings.warn(\"Maximum Likelihood optimization failed to \"\n"
          ]
        },
        {
          "name": "stdout",
          "output_type": "stream",
          "text": [
            "ARIMA(2, 1, 2) x (2, 1, 1, 12) - AIC:2135.124556816026\n"
          ]
        },
        {
          "name": "stderr",
          "output_type": "stream",
          "text": [
            "c:\\Users\\conte\\AppData\\Local\\Programs\\Python\\Python310\\lib\\site-packages\\statsmodels\\base\\model.py:604: ConvergenceWarning: Maximum Likelihood optimization failed to converge. Check mle_retvals\n",
            "  warnings.warn(\"Maximum Likelihood optimization failed to \"\n"
          ]
        },
        {
          "name": "stdout",
          "output_type": "stream",
          "text": [
            "ARIMA(2, 1, 2) x (2, 1, 2, 12) - AIC:2141.3140558973923\n"
          ]
        },
        {
          "name": "stderr",
          "output_type": "stream",
          "text": [
            "c:\\Users\\conte\\AppData\\Local\\Programs\\Python\\Python310\\lib\\site-packages\\statsmodels\\base\\model.py:604: ConvergenceWarning: Maximum Likelihood optimization failed to converge. Check mle_retvals\n",
            "  warnings.warn(\"Maximum Likelihood optimization failed to \"\n"
          ]
        },
        {
          "name": "stdout",
          "output_type": "stream",
          "text": [
            "ARIMA(2, 1, 2) x (2, 2, 0, 12) - AIC:1988.7529872272248\n"
          ]
        },
        {
          "name": "stderr",
          "output_type": "stream",
          "text": [
            "c:\\Users\\conte\\AppData\\Local\\Programs\\Python\\Python310\\lib\\site-packages\\statsmodels\\base\\model.py:604: ConvergenceWarning: Maximum Likelihood optimization failed to converge. Check mle_retvals\n",
            "  warnings.warn(\"Maximum Likelihood optimization failed to \"\n"
          ]
        },
        {
          "name": "stdout",
          "output_type": "stream",
          "text": [
            "ARIMA(2, 1, 2) x (2, 2, 1, 12) - AIC:1933.7016021435782\n"
          ]
        },
        {
          "name": "stderr",
          "output_type": "stream",
          "text": [
            "c:\\Users\\conte\\AppData\\Local\\Programs\\Python\\Python310\\lib\\site-packages\\statsmodels\\base\\model.py:604: ConvergenceWarning: Maximum Likelihood optimization failed to converge. Check mle_retvals\n",
            "  warnings.warn(\"Maximum Likelihood optimization failed to \"\n"
          ]
        },
        {
          "name": "stdout",
          "output_type": "stream",
          "text": [
            "ARIMA(2, 1, 2) x (2, 2, 2, 12) - AIC:2024.4599035189076\n",
            "ARIMA(2, 2, 0) x (0, 0, 0, 12) - AIC:2916.3836223905855\n",
            "ARIMA(2, 2, 0) x (0, 0, 1, 12) - AIC:2684.338679475246\n",
            "ARIMA(2, 2, 0) x (0, 0, 2, 12) - AIC:2424.8462146846177\n",
            "ARIMA(2, 2, 0) x (0, 1, 0, 12) - AIC:2772.183324172667\n",
            "ARIMA(2, 2, 0) x (0, 1, 1, 12) - AIC:2508.099674350836\n",
            "ARIMA(2, 2, 0) x (0, 1, 2, 12) - AIC:2191.9660540853856\n",
            "ARIMA(2, 2, 0) x (0, 2, 0, 12) - AIC:2657.1735620937693\n",
            "ARIMA(2, 2, 0) x (0, 2, 1, 12) - AIC:2346.5460020088044\n",
            "ARIMA(2, 2, 0) x (0, 2, 2, 12) - AIC:2093.166377500035\n",
            "ARIMA(2, 2, 0) x (1, 0, 0, 12) - AIC:2666.1601184957744\n",
            "ARIMA(2, 2, 0) x (1, 0, 1, 12) - AIC:2652.859323301111\n"
          ]
        },
        {
          "name": "stderr",
          "output_type": "stream",
          "text": [
            "c:\\Users\\conte\\AppData\\Local\\Programs\\Python\\Python310\\lib\\site-packages\\statsmodels\\base\\model.py:604: ConvergenceWarning: Maximum Likelihood optimization failed to converge. Check mle_retvals\n",
            "  warnings.warn(\"Maximum Likelihood optimization failed to \"\n"
          ]
        },
        {
          "name": "stdout",
          "output_type": "stream",
          "text": [
            "ARIMA(2, 2, 0) x (1, 0, 2, 12) - AIC:2409.7985504839467\n",
            "ARIMA(2, 2, 0) x (1, 1, 0, 12) - AIC:2454.49268994964\n",
            "ARIMA(2, 2, 0) x (1, 1, 1, 12) - AIC:2456.3507223398274\n"
          ]
        },
        {
          "name": "stderr",
          "output_type": "stream",
          "text": [
            "c:\\Users\\conte\\AppData\\Local\\Programs\\Python\\Python310\\lib\\site-packages\\statsmodels\\base\\model.py:604: ConvergenceWarning: Maximum Likelihood optimization failed to converge. Check mle_retvals\n",
            "  warnings.warn(\"Maximum Likelihood optimization failed to \"\n"
          ]
        },
        {
          "name": "stdout",
          "output_type": "stream",
          "text": [
            "ARIMA(2, 2, 0) x (1, 1, 2, 12) - AIC:2192.047452604277\n",
            "ARIMA(2, 2, 0) x (1, 2, 0, 12) - AIC:2288.708206187632\n",
            "ARIMA(2, 2, 0) x (1, 2, 1, 12) - AIC:2214.472018967859\n",
            "ARIMA(2, 2, 0) x (1, 2, 2, 12) - AIC:2095.1614086962313\n",
            "ARIMA(2, 2, 0) x (2, 0, 0, 12) - AIC:2333.465090353044\n",
            "ARIMA(2, 2, 0) x (2, 0, 1, 12) - AIC:2334.888149357244\n"
          ]
        },
        {
          "name": "stderr",
          "output_type": "stream",
          "text": [
            "c:\\Users\\conte\\AppData\\Local\\Programs\\Python\\Python310\\lib\\site-packages\\statsmodels\\base\\model.py:604: ConvergenceWarning: Maximum Likelihood optimization failed to converge. Check mle_retvals\n",
            "  warnings.warn(\"Maximum Likelihood optimization failed to \"\n"
          ]
        },
        {
          "name": "stdout",
          "output_type": "stream",
          "text": [
            "ARIMA(2, 2, 0) x (2, 0, 2, 12) - AIC:2336.946021110004\n",
            "ARIMA(2, 2, 0) x (2, 1, 0, 12) - AIC:2139.0641026751714\n",
            "ARIMA(2, 2, 0) x (2, 1, 1, 12) - AIC:2141.063283320138\n",
            "ARIMA(2, 2, 0) x (2, 1, 2, 12) - AIC:2143.054531796505\n",
            "ARIMA(2, 2, 0) x (2, 2, 0, 12) - AIC:1986.555962758954\n",
            "ARIMA(2, 2, 0) x (2, 2, 1, 12) - AIC:1942.6709523784348\n"
          ]
        },
        {
          "name": "stderr",
          "output_type": "stream",
          "text": [
            "c:\\Users\\conte\\AppData\\Local\\Programs\\Python\\Python310\\lib\\site-packages\\statsmodels\\base\\model.py:604: ConvergenceWarning: Maximum Likelihood optimization failed to converge. Check mle_retvals\n",
            "  warnings.warn(\"Maximum Likelihood optimization failed to \"\n"
          ]
        },
        {
          "name": "stdout",
          "output_type": "stream",
          "text": [
            "ARIMA(2, 2, 0) x (2, 2, 2, 12) - AIC:2052.8169299140927\n",
            "ARIMA(2, 2, 1) x (0, 0, 0, 12) - AIC:2912.7775662578697\n",
            "ARIMA(2, 2, 1) x (0, 0, 1, 12) - AIC:2615.844670467556\n",
            "ARIMA(2, 2, 1) x (0, 0, 2, 12) - AIC:2283.188249161818\n",
            "ARIMA(2, 2, 1) x (0, 1, 0, 12) - AIC:2750.001736229221\n",
            "ARIMA(2, 2, 1) x (0, 1, 1, 12) - AIC:2439.3514936038596\n"
          ]
        },
        {
          "name": "stderr",
          "output_type": "stream",
          "text": [
            "c:\\Users\\conte\\AppData\\Local\\Programs\\Python\\Python310\\lib\\site-packages\\statsmodels\\base\\model.py:604: ConvergenceWarning: Maximum Likelihood optimization failed to converge. Check mle_retvals\n",
            "  warnings.warn(\"Maximum Likelihood optimization failed to \"\n"
          ]
        },
        {
          "name": "stdout",
          "output_type": "stream",
          "text": [
            "ARIMA(2, 2, 1) x (0, 1, 2, 12) - AIC:2097.5329213239193\n",
            "ARIMA(2, 2, 1) x (0, 2, 0, 12) - AIC:2622.3928978437575\n",
            "ARIMA(2, 2, 1) x (0, 2, 1, 12) - AIC:2206.5931630149316\n",
            "ARIMA(2, 2, 1) x (0, 2, 2, 12) - AIC:2052.224474384414\n",
            "ARIMA(2, 2, 1) x (1, 0, 0, 12) - AIC:2614.9553940118217\n",
            "ARIMA(2, 2, 1) x (1, 0, 1, 12) - AIC:2616.8667157981617\n",
            "ARIMA(2, 2, 1) x (1, 0, 2, 12) - AIC:2285.1023154122554\n",
            "ARIMA(2, 2, 1) x (1, 1, 0, 12) - AIC:2470.3916217516517\n",
            "ARIMA(2, 2, 1) x (1, 1, 1, 12) - AIC:2440.8913713168604\n"
          ]
        },
        {
          "name": "stderr",
          "output_type": "stream",
          "text": [
            "c:\\Users\\conte\\AppData\\Local\\Programs\\Python\\Python310\\lib\\site-packages\\statsmodels\\base\\model.py:604: ConvergenceWarning: Maximum Likelihood optimization failed to converge. Check mle_retvals\n",
            "  warnings.warn(\"Maximum Likelihood optimization failed to \"\n"
          ]
        },
        {
          "name": "stdout",
          "output_type": "stream",
          "text": [
            "ARIMA(2, 2, 1) x (1, 1, 2, 12) - AIC:2097.445965636497\n",
            "ARIMA(2, 2, 1) x (1, 2, 0, 12) - AIC:2315.531587067529\n"
          ]
        },
        {
          "name": "stderr",
          "output_type": "stream",
          "text": [
            "c:\\Users\\conte\\AppData\\Local\\Programs\\Python\\Python310\\lib\\site-packages\\statsmodels\\base\\model.py:604: ConvergenceWarning: Maximum Likelihood optimization failed to converge. Check mle_retvals\n",
            "  warnings.warn(\"Maximum Likelihood optimization failed to \"\n"
          ]
        },
        {
          "name": "stdout",
          "output_type": "stream",
          "text": [
            "ARIMA(2, 2, 1) x (1, 2, 1, 12) - AIC:2191.6456547071944\n"
          ]
        },
        {
          "name": "stderr",
          "output_type": "stream",
          "text": [
            "c:\\Users\\conte\\AppData\\Local\\Programs\\Python\\Python310\\lib\\site-packages\\statsmodels\\base\\model.py:604: ConvergenceWarning: Maximum Likelihood optimization failed to converge. Check mle_retvals\n",
            "  warnings.warn(\"Maximum Likelihood optimization failed to \"\n"
          ]
        },
        {
          "name": "stdout",
          "output_type": "stream",
          "text": [
            "ARIMA(2, 2, 1) x (1, 2, 2, 12) - AIC:1998.9122223531494\n",
            "ARIMA(2, 2, 1) x (2, 0, 0, 12) - AIC:2273.3915838896473\n",
            "ARIMA(2, 2, 1) x (2, 0, 1, 12) - AIC:2274.838086741058\n"
          ]
        },
        {
          "name": "stderr",
          "output_type": "stream",
          "text": [
            "c:\\Users\\conte\\AppData\\Local\\Programs\\Python\\Python310\\lib\\site-packages\\statsmodels\\base\\model.py:604: ConvergenceWarning: Maximum Likelihood optimization failed to converge. Check mle_retvals\n",
            "  warnings.warn(\"Maximum Likelihood optimization failed to \"\n"
          ]
        },
        {
          "name": "stdout",
          "output_type": "stream",
          "text": [
            "ARIMA(2, 2, 1) x (2, 0, 2, 12) - AIC:2274.5099871987186\n",
            "ARIMA(2, 2, 1) x (2, 1, 0, 12) - AIC:2095.2979544663667\n",
            "ARIMA(2, 2, 1) x (2, 1, 1, 12) - AIC:2096.6922709040664\n"
          ]
        },
        {
          "name": "stderr",
          "output_type": "stream",
          "text": [
            "c:\\Users\\conte\\AppData\\Local\\Programs\\Python\\Python310\\lib\\site-packages\\statsmodels\\base\\model.py:604: ConvergenceWarning: Maximum Likelihood optimization failed to converge. Check mle_retvals\n",
            "  warnings.warn(\"Maximum Likelihood optimization failed to \"\n"
          ]
        },
        {
          "name": "stdout",
          "output_type": "stream",
          "text": [
            "ARIMA(2, 2, 1) x (2, 1, 2, 12) - AIC:2111.00006526287\n",
            "ARIMA(2, 2, 1) x (2, 2, 0, 12) - AIC:1965.6387366384674\n"
          ]
        },
        {
          "name": "stderr",
          "output_type": "stream",
          "text": [
            "c:\\Users\\conte\\AppData\\Local\\Programs\\Python\\Python310\\lib\\site-packages\\statsmodels\\base\\model.py:604: ConvergenceWarning: Maximum Likelihood optimization failed to converge. Check mle_retvals\n",
            "  warnings.warn(\"Maximum Likelihood optimization failed to \"\n"
          ]
        },
        {
          "name": "stdout",
          "output_type": "stream",
          "text": [
            "ARIMA(2, 2, 1) x (2, 2, 1, 12) - AIC:1941.9015334927703\n"
          ]
        },
        {
          "name": "stderr",
          "output_type": "stream",
          "text": [
            "c:\\Users\\conte\\AppData\\Local\\Programs\\Python\\Python310\\lib\\site-packages\\statsmodels\\base\\model.py:604: ConvergenceWarning: Maximum Likelihood optimization failed to converge. Check mle_retvals\n",
            "  warnings.warn(\"Maximum Likelihood optimization failed to \"\n"
          ]
        },
        {
          "name": "stdout",
          "output_type": "stream",
          "text": [
            "ARIMA(2, 2, 1) x (2, 2, 2, 12) - AIC:2056.075803935787\n",
            "ARIMA(2, 2, 2) x (0, 0, 0, 12) - AIC:2888.0993423334426\n",
            "ARIMA(2, 2, 2) x (0, 0, 1, 12) - AIC:2584.8853376508696\n",
            "ARIMA(2, 2, 2) x (0, 0, 2, 12) - AIC:2255.907932862078\n",
            "ARIMA(2, 2, 2) x (0, 1, 0, 12) - AIC:2738.3823274033525\n",
            "ARIMA(2, 2, 2) x (0, 1, 1, 12) - AIC:2402.80650224802\n"
          ]
        },
        {
          "name": "stderr",
          "output_type": "stream",
          "text": [
            "c:\\Users\\conte\\AppData\\Local\\Programs\\Python\\Python310\\lib\\site-packages\\statsmodels\\base\\model.py:604: ConvergenceWarning: Maximum Likelihood optimization failed to converge. Check mle_retvals\n",
            "  warnings.warn(\"Maximum Likelihood optimization failed to \"\n"
          ]
        },
        {
          "name": "stdout",
          "output_type": "stream",
          "text": [
            "ARIMA(2, 2, 2) x (0, 1, 2, 12) - AIC:2098.31657462231\n",
            "ARIMA(2, 2, 2) x (0, 2, 0, 12) - AIC:2607.0843449180184\n"
          ]
        },
        {
          "name": "stderr",
          "output_type": "stream",
          "text": [
            "c:\\Users\\conte\\AppData\\Local\\Programs\\Python\\Python310\\lib\\site-packages\\statsmodels\\base\\model.py:604: ConvergenceWarning: Maximum Likelihood optimization failed to converge. Check mle_retvals\n",
            "  warnings.warn(\"Maximum Likelihood optimization failed to \"\n"
          ]
        },
        {
          "name": "stdout",
          "output_type": "stream",
          "text": [
            "ARIMA(2, 2, 2) x (0, 2, 1, 12) - AIC:2183.3224991032166\n"
          ]
        },
        {
          "name": "stderr",
          "output_type": "stream",
          "text": [
            "c:\\Users\\conte\\AppData\\Local\\Programs\\Python\\Python310\\lib\\site-packages\\statsmodels\\base\\model.py:604: ConvergenceWarning: Maximum Likelihood optimization failed to converge. Check mle_retvals\n",
            "  warnings.warn(\"Maximum Likelihood optimization failed to \"\n"
          ]
        },
        {
          "name": "stdout",
          "output_type": "stream",
          "text": [
            "ARIMA(2, 2, 2) x (0, 2, 2, 12) - AIC:2019.1907864335014\n",
            "ARIMA(2, 2, 2) x (1, 0, 0, 12) - AIC:2602.572259425958\n",
            "ARIMA(2, 2, 2) x (1, 0, 1, 12) - AIC:2585.5466022632495\n"
          ]
        },
        {
          "name": "stderr",
          "output_type": "stream",
          "text": [
            "c:\\Users\\conte\\AppData\\Local\\Programs\\Python\\Python310\\lib\\site-packages\\statsmodels\\base\\model.py:604: ConvergenceWarning: Maximum Likelihood optimization failed to converge. Check mle_retvals\n",
            "  warnings.warn(\"Maximum Likelihood optimization failed to \"\n"
          ]
        },
        {
          "name": "stdout",
          "output_type": "stream",
          "text": [
            "ARIMA(2, 2, 2) x (1, 0, 2, 12) - AIC:2263.503412500935\n"
          ]
        },
        {
          "name": "stderr",
          "output_type": "stream",
          "text": [
            "c:\\Users\\conte\\AppData\\Local\\Programs\\Python\\Python310\\lib\\site-packages\\statsmodels\\base\\model.py:604: ConvergenceWarning: Maximum Likelihood optimization failed to converge. Check mle_retvals\n",
            "  warnings.warn(\"Maximum Likelihood optimization failed to \"\n"
          ]
        },
        {
          "name": "stdout",
          "output_type": "stream",
          "text": [
            "ARIMA(2, 2, 2) x (1, 1, 0, 12) - AIC:2436.646458609155\n",
            "ARIMA(2, 2, 2) x (1, 1, 1, 12) - AIC:2419.3535887082085\n"
          ]
        },
        {
          "name": "stderr",
          "output_type": "stream",
          "text": [
            "c:\\Users\\conte\\AppData\\Local\\Programs\\Python\\Python310\\lib\\site-packages\\statsmodels\\base\\model.py:604: ConvergenceWarning: Maximum Likelihood optimization failed to converge. Check mle_retvals\n",
            "  warnings.warn(\"Maximum Likelihood optimization failed to \"\n"
          ]
        },
        {
          "name": "stdout",
          "output_type": "stream",
          "text": [
            "ARIMA(2, 2, 2) x (1, 1, 2, 12) - AIC:2145.4037342950246\n",
            "ARIMA(2, 2, 2) x (1, 2, 0, 12) - AIC:2305.576314802203\n"
          ]
        },
        {
          "name": "stderr",
          "output_type": "stream",
          "text": [
            "c:\\Users\\conte\\AppData\\Local\\Programs\\Python\\Python310\\lib\\site-packages\\statsmodels\\base\\model.py:604: ConvergenceWarning: Maximum Likelihood optimization failed to converge. Check mle_retvals\n",
            "  warnings.warn(\"Maximum Likelihood optimization failed to \"\n"
          ]
        },
        {
          "name": "stdout",
          "output_type": "stream",
          "text": [
            "ARIMA(2, 2, 2) x (1, 2, 1, 12) - AIC:2180.460355574029\n"
          ]
        },
        {
          "name": "stderr",
          "output_type": "stream",
          "text": [
            "c:\\Users\\conte\\AppData\\Local\\Programs\\Python\\Python310\\lib\\site-packages\\statsmodels\\base\\model.py:604: ConvergenceWarning: Maximum Likelihood optimization failed to converge. Check mle_retvals\n",
            "  warnings.warn(\"Maximum Likelihood optimization failed to \"\n"
          ]
        },
        {
          "name": "stdout",
          "output_type": "stream",
          "text": [
            "ARIMA(2, 2, 2) x (1, 2, 2, 12) - AIC:2021.2662091269904\n",
            "ARIMA(2, 2, 2) x (2, 0, 0, 12) - AIC:2315.6815322702796\n"
          ]
        },
        {
          "name": "stderr",
          "output_type": "stream",
          "text": [
            "c:\\Users\\conte\\AppData\\Local\\Programs\\Python\\Python310\\lib\\site-packages\\statsmodels\\base\\model.py:604: ConvergenceWarning: Maximum Likelihood optimization failed to converge. Check mle_retvals\n",
            "  warnings.warn(\"Maximum Likelihood optimization failed to \"\n"
          ]
        },
        {
          "name": "stdout",
          "output_type": "stream",
          "text": [
            "ARIMA(2, 2, 2) x (2, 0, 1, 12) - AIC:2271.1776950296157\n"
          ]
        },
        {
          "name": "stderr",
          "output_type": "stream",
          "text": [
            "c:\\Users\\conte\\AppData\\Local\\Programs\\Python\\Python310\\lib\\site-packages\\statsmodels\\base\\model.py:604: ConvergenceWarning: Maximum Likelihood optimization failed to converge. Check mle_retvals\n",
            "  warnings.warn(\"Maximum Likelihood optimization failed to \"\n"
          ]
        },
        {
          "name": "stdout",
          "output_type": "stream",
          "text": [
            "ARIMA(2, 2, 2) x (2, 0, 2, 12) - AIC:2255.4180524408666\n",
            "ARIMA(2, 2, 2) x (2, 1, 0, 12) - AIC:2167.501612533548\n",
            "ARIMA(2, 2, 2) x (2, 1, 1, 12) - AIC:2169.7194479938034\n"
          ]
        },
        {
          "name": "stderr",
          "output_type": "stream",
          "text": [
            "c:\\Users\\conte\\AppData\\Local\\Programs\\Python\\Python310\\lib\\site-packages\\statsmodels\\base\\model.py:604: ConvergenceWarning: Maximum Likelihood optimization failed to converge. Check mle_retvals\n",
            "  warnings.warn(\"Maximum Likelihood optimization failed to \"\n"
          ]
        },
        {
          "name": "stdout",
          "output_type": "stream",
          "text": [
            "ARIMA(2, 2, 2) x (2, 1, 2, 12) - AIC:2152.2614972833867\n"
          ]
        },
        {
          "name": "stderr",
          "output_type": "stream",
          "text": [
            "c:\\Users\\conte\\AppData\\Local\\Programs\\Python\\Python310\\lib\\site-packages\\statsmodels\\base\\model.py:604: ConvergenceWarning: Maximum Likelihood optimization failed to converge. Check mle_retvals\n",
            "  warnings.warn(\"Maximum Likelihood optimization failed to \"\n"
          ]
        },
        {
          "name": "stdout",
          "output_type": "stream",
          "text": [
            "ARIMA(2, 2, 2) x (2, 2, 0, 12) - AIC:2042.3786133121757\n"
          ]
        },
        {
          "name": "stderr",
          "output_type": "stream",
          "text": [
            "c:\\Users\\conte\\AppData\\Local\\Programs\\Python\\Python310\\lib\\site-packages\\statsmodels\\base\\model.py:604: ConvergenceWarning: Maximum Likelihood optimization failed to converge. Check mle_retvals\n",
            "  warnings.warn(\"Maximum Likelihood optimization failed to \"\n"
          ]
        },
        {
          "name": "stdout",
          "output_type": "stream",
          "text": [
            "ARIMA(2, 2, 2) x (2, 2, 1, 12) - AIC:1986.0242338029702\n",
            "ARIMA(2, 2, 2) x (2, 2, 2, 12) - AIC:2023.1793825869217\n"
          ]
        }
      ],
      "source": [
        "aic_modelos = {}\n",
        "for parametros in pdq:\n",
        "  for parametros_s in seasonal_pdq:\n",
        "      modelo = SARIMAX(datos.loc[:'2021-12-1','TotalPet'],\n",
        "                       order = parametros,\n",
        "                       seasonal_order = parametros_s,\n",
        "                       enforce_stationarity = False,\n",
        "                       enforce_invertibility = False)\n",
        "      results = modelo.fit()#method_kwargs={\"warn_convergence\": False}\n",
        "      aic_modelos[parametros, parametros_s] = results.aic\n",
        "      print('ARIMA{} x {} - AIC:{}'.format(parametros, parametros_s, results.aic))  "
      ]
    },
    {
      "cell_type": "code",
      "execution_count": 113,
      "metadata": {
        "colab": {
          "base_uri": "https://localhost:8080/"
        },
        "id": "rRKeFpAUsOjO",
        "outputId": "307b04b9-6ffb-4188-ce87-6525fe05ee1f"
      },
      "outputs": [
        {
          "name": "stdout",
          "output_type": "stream",
          "text": [
            "Modelo:  ((0, 1, 2), (2, 2, 2, 12))\n",
            "AIC:  1902.4384327374223\n"
          ]
        }
      ],
      "source": [
        "print('Modelo: ', min(aic_modelos, key = aic_modelos.get))\n",
        "print('AIC: ',min(aic_modelos.values()))\n"
      ]
    },
    {
      "cell_type": "code",
      "execution_count": 114,
      "metadata": {
        "colab": {
          "base_uri": "https://localhost:8080/"
        },
        "id": "GtaqboFNzoqy",
        "outputId": "e6a1ac5a-4697-4a3d-a2ff-9a2991e162f3"
      },
      "outputs": [
        {
          "name": "stderr",
          "output_type": "stream",
          "text": [
            "c:\\Users\\conte\\AppData\\Local\\Programs\\Python\\Python310\\lib\\site-packages\\statsmodels\\base\\model.py:604: ConvergenceWarning: Maximum Likelihood optimization failed to converge. Check mle_retvals\n",
            "  warnings.warn(\"Maximum Likelihood optimization failed to \"\n"
          ]
        },
        {
          "name": "stdout",
          "output_type": "stream",
          "text": [
            "==============================================================================\n",
            "                 coef    std err          z      P>|z|      [0.025      0.975]\n",
            "------------------------------------------------------------------------------\n",
            "ma.L1         -0.0467      0.086     -0.541      0.589      -0.216       0.122\n",
            "ma.L2         -0.0293      0.076     -0.384      0.701      -0.179       0.121\n",
            "ar.S.L12      -0.3281      0.160     -2.049      0.040      -0.642      -0.014\n",
            "ar.S.L24      -0.2788      0.066     -4.204      0.000      -0.409      -0.149\n",
            "ma.S.L12      -0.8663      0.256     -3.390      0.001      -1.367      -0.365\n",
            "ma.S.L24      -0.0421      0.157     -0.269      0.788      -0.349       0.265\n",
            "sigma2      4.517e+06   7.94e+05      5.688      0.000    2.96e+06    6.07e+06\n",
            "==============================================================================\n"
          ]
        }
      ],
      "source": [
        "modelo = SARIMAX(datos['TotalPet'],\n",
        "                       order = (0,1,2),\n",
        "                       seasonal_order = (2,2,2,12),\n",
        "                       enforce_stationarity = False,\n",
        "                       enforce_invertibility = False)\n",
        "resultados = modelo.fit()\n",
        "print(resultados.summary().tables[1])"
      ]
    },
    {
      "cell_type": "code",
      "execution_count": 115,
      "metadata": {
        "colab": {
          "base_uri": "https://localhost:8080/",
          "height": 513
        },
        "id": "vdYEkeMe0GI0",
        "outputId": "6427901f-44d9-444b-ecc9-c5c911a9a3d8"
      },
      "outputs": [
        {
          "data": {
            "image/png": "[encoded data removed]",
            "text/plain": [
              "<Figure size 1152x720 with 4 Axes>"
            ]
          },
          "metadata": {
            "needs_background": "light"
          },
          "output_type": "display_data"
        }
      ],
      "source": [
        "resultados.plot_diagnostics(figsize = (16,10))\n",
        "plt.show()"
      ]
    },
    {
      "cell_type": "code",
      "execution_count": 116,
      "metadata": {
        "colab": {
          "base_uri": "https://localhost:8080/",
          "height": 809
        },
        "id": "m9g_mm5GJw5v",
        "outputId": "1f500a69-3392-43b7-aae8-2651c6ffc0ea"
      },
      "outputs": [
        {
          "name": "stderr",
          "output_type": "stream",
          "text": [
            "c:\\Users\\conte\\AppData\\Local\\Programs\\Python\\Python310\\lib\\site-packages\\statsmodels\\graphics\\tsaplots.py:348: FutureWarning: The default method 'yw' can produce PACF values outside of the [-1,1] interval. After 0.13, the default will change tounadjusted Yule-Walker ('ywm'). You can use this method now by setting method='ywm'.\n",
            "  warnings.warn(\n"
          ]
        },
        {
          "data": {
            "image/png": "[encoded data removed]",
            "text/plain": [
              "<Figure size 432x288 with 1 Axes>"
            ]
          },
          "metadata": {
            "needs_background": "light"
          },
          "output_type": "display_data"
        },
        {
          "data": {
            "image/png": "[encoded data removed]",
            "text/plain": [
              "<Figure size 432x288 with 1 Axes>"
            ]
          },
          "metadata": {
            "needs_background": "light"
          },
          "output_type": "display_data"
        }
      ],
      "source": [
        "plot_acf(resultados.resid)\n",
        "plot_pacf(resultados.resid)\n",
        "plt.show()"
      ]
    },
    {
      "cell_type": "markdown",
      "metadata": {
        "id": "Ez7DTU9U0RIS"
      },
      "source": [
        "# Validación"
      ]
    },
    {
      "cell_type": "code",
      "execution_count": 117,
      "metadata": {
        "colab": {
          "base_uri": "https://localhost:8080/"
        },
        "id": "_TsNXPrglowj",
        "outputId": "00657140-da38-4d0a-8f4c-d8ade138e760"
      },
      "outputs": [
        {
          "data": {
            "text/plain": [
              "2022-01-01     88333.567402\n",
              "2022-02-01     89549.349850\n",
              "2022-03-01     89543.435403\n",
              "2022-04-01     90279.110448\n",
              "2022-05-01     90501.334980\n",
              "2022-06-01     91171.974670\n",
              "2022-07-01     92621.415015\n",
              "2022-08-01     92488.464728\n",
              "2022-09-01     93880.990480\n",
              "2022-10-01     94971.768406\n",
              "2022-11-01     96924.588459\n",
              "2022-12-01     97398.565648\n",
              "2023-01-01     98583.126497\n",
              "2023-02-01     98537.227234\n",
              "2023-03-01     99005.152645\n",
              "2023-04-01     97300.561122\n",
              "2023-05-01     97591.278662\n",
              "2023-06-01     98507.049938\n",
              "2023-07-01     98946.516227\n",
              "2023-08-01     99833.476678\n",
              "2023-09-01    100599.072896\n",
              "2023-10-01    101693.767003\n",
              "2023-11-01    103434.134668\n",
              "2023-12-01    104122.556360\n",
              "2024-01-01    105486.435166\n",
              "2024-02-01    105531.275820\n",
              "2024-03-01    106076.327878\n",
              "2024-04-01    105338.185009\n",
              "2024-05-01    105724.781460\n",
              "2024-06-01    106373.516243\n",
              "2024-07-01    107160.593021\n",
              "2024-08-01    107993.928388\n",
              "2024-09-01    109034.412280\n",
              "2024-10-01    110369.621540\n",
              "2024-11-01    112604.246418\n",
              "2024-12-01    113280.495484\n",
              "2025-01-01    114868.462750\n",
              "Freq: MS, Name: predicted_mean, dtype: float64"
            ]
          },
          "execution_count": 117,
          "metadata": {},
          "output_type": "execute_result"
        }
      ],
      "source": [
        "pred = resultados.get_prediction(start=pd.to_datetime('2022-01-01'),\n",
        "                                 end=pd.to_datetime('2025-01-01'))\n",
        "pred.predicted_mean"
      ]
    },
    {
      "cell_type": "code",
      "execution_count": 118,
      "metadata": {
        "colab": {
          "base_uri": "https://localhost:8080/",
          "height": 582
        },
        "id": "XHixBTpPnIZf",
        "outputId": "f7119d52-b6c3-41b4-ed80-8cffee92d72b"
      },
      "outputs": [
        {
          "data": {
            "text/html": [
              "<div>\n",
              "<style scoped>\n",
              "    .dataframe tbody tr th:only-of-type {\n",
              "        vertical-align: middle;\n",
              "    }\n",
              "\n",
              "    .dataframe tbody tr th {\n",
              "        vertical-align: top;\n",
              "    }\n",
              "\n",
              "    .dataframe thead th {\n",
              "        text-align: right;\n",
              "    }\n",
              "</style>\n",
              "<table border=\"1\" class=\"dataframe\">\n",
              "  <thead>\n",
              "    <tr style=\"text-align: right;\">\n",
              "      <th></th>\n",
              "      <th>lower TotalPet</th>\n",
              "      <th>upper TotalPet</th>\n",
              "    </tr>\n",
              "  </thead>\n",
              "  <tbody>\n",
              "    <tr>\n",
              "      <th>2022-01-01</th>\n",
              "      <td>84128.640185</td>\n",
              "      <td>92538.494618</td>\n",
              "    </tr>\n",
              "    <tr>\n",
              "      <th>2022-02-01</th>\n",
              "      <td>85343.407914</td>\n",
              "      <td>93755.291786</td>\n",
              "    </tr>\n",
              "    <tr>\n",
              "      <th>2022-03-01</th>\n",
              "      <td>85337.499479</td>\n",
              "      <td>93749.371327</td>\n",
              "    </tr>\n",
              "    <tr>\n",
              "      <th>2022-04-01</th>\n",
              "      <td>86077.444965</td>\n",
              "      <td>94480.775931</td>\n",
              "    </tr>\n",
              "    <tr>\n",
              "      <th>2022-05-01</th>\n",
              "      <td>86299.672434</td>\n",
              "      <td>94702.997526</td>\n",
              "    </tr>\n",
              "    <tr>\n",
              "      <th>2022-06-01</th>\n",
              "      <td>86970.313465</td>\n",
              "      <td>95373.635875</td>\n",
              "    </tr>\n",
              "    <tr>\n",
              "      <th>2022-07-01</th>\n",
              "      <td>88419.753817</td>\n",
              "      <td>96823.076213</td>\n",
              "    </tr>\n",
              "    <tr>\n",
              "      <th>2022-08-01</th>\n",
              "      <td>88286.803531</td>\n",
              "      <td>96690.125925</td>\n",
              "    </tr>\n",
              "    <tr>\n",
              "      <th>2022-09-01</th>\n",
              "      <td>88075.467283</td>\n",
              "      <td>99686.513677</td>\n",
              "    </tr>\n",
              "    <tr>\n",
              "      <th>2022-10-01</th>\n",
              "      <td>87987.118485</td>\n",
              "      <td>101956.418327</td>\n",
              "    </tr>\n",
              "    <tr>\n",
              "      <th>2022-11-01</th>\n",
              "      <td>88932.946849</td>\n",
              "      <td>104916.230069</td>\n",
              "    </tr>\n",
              "    <tr>\n",
              "      <th>2022-12-01</th>\n",
              "      <td>88513.340592</td>\n",
              "      <td>106283.790705</td>\n",
              "    </tr>\n",
              "    <tr>\n",
              "      <th>2023-01-01</th>\n",
              "      <td>88887.885021</td>\n",
              "      <td>108278.367972</td>\n",
              "    </tr>\n",
              "    <tr>\n",
              "      <th>2023-02-01</th>\n",
              "      <td>88094.279303</td>\n",
              "      <td>108980.175164</td>\n",
              "    </tr>\n",
              "    <tr>\n",
              "      <th>2023-03-01</th>\n",
              "      <td>87864.574891</td>\n",
              "      <td>110145.730400</td>\n",
              "    </tr>\n",
              "    <tr>\n",
              "      <th>2023-04-01</th>\n",
              "      <td>85504.671996</td>\n",
              "      <td>109096.450248</td>\n",
              "    </tr>\n",
              "    <tr>\n",
              "      <th>2023-05-01</th>\n",
              "      <td>85174.568732</td>\n",
              "      <td>110007.988591</td>\n",
              "    </tr>\n",
              "    <tr>\n",
              "      <th>2023-06-01</th>\n",
              "      <td>85498.965667</td>\n",
              "      <td>111515.134209</td>\n",
              "    </tr>\n",
              "    <tr>\n",
              "      <th>2023-07-01</th>\n",
              "      <td>85372.621250</td>\n",
              "      <td>112520.411205</td>\n",
              "    </tr>\n",
              "    <tr>\n",
              "      <th>2023-08-01</th>\n",
              "      <td>84406.102984</td>\n",
              "      <td>115260.850372</td>\n",
              "    </tr>\n",
              "    <tr>\n",
              "      <th>2023-09-01</th>\n",
              "      <td>83586.206076</td>\n",
              "      <td>117611.939716</td>\n",
              "    </tr>\n",
              "    <tr>\n",
              "      <th>2023-10-01</th>\n",
              "      <td>83269.875449</td>\n",
              "      <td>120117.658557</td>\n",
              "    </tr>\n",
              "    <tr>\n",
              "      <th>2023-11-01</th>\n",
              "      <td>83699.828602</td>\n",
              "      <td>123168.440734</td>\n",
              "    </tr>\n",
              "    <tr>\n",
              "      <th>2023-12-01</th>\n",
              "      <td>83159.555151</td>\n",
              "      <td>125085.557570</td>\n",
              "    </tr>\n",
              "    <tr>\n",
              "      <th>2024-01-01</th>\n",
              "      <td>83367.307156</td>\n",
              "      <td>127605.563176</td>\n",
              "    </tr>\n",
              "    <tr>\n",
              "      <th>2024-02-01</th>\n",
              "      <td>82312.586692</td>\n",
              "      <td>128749.964948</td>\n",
              "    </tr>\n",
              "    <tr>\n",
              "      <th>2024-03-01</th>\n",
              "      <td>81807.804953</td>\n",
              "      <td>130344.850802</td>\n",
              "    </tr>\n",
              "    <tr>\n",
              "      <th>2024-04-01</th>\n",
              "      <td>80066.790857</td>\n",
              "      <td>130609.579160</td>\n",
              "    </tr>\n",
              "    <tr>\n",
              "      <th>2024-05-01</th>\n",
              "      <td>79488.723390</td>\n",
              "      <td>131960.839530</td>\n",
              "    </tr>\n",
              "    <tr>\n",
              "      <th>2024-06-01</th>\n",
              "      <td>79206.784143</td>\n",
              "      <td>133540.248343</td>\n",
              "    </tr>\n",
              "    <tr>\n",
              "      <th>2024-07-01</th>\n",
              "      <td>79093.762673</td>\n",
              "      <td>135227.423369</td>\n",
              "    </tr>\n",
              "    <tr>\n",
              "      <th>2024-08-01</th>\n",
              "      <td>78186.229334</td>\n",
              "      <td>137801.627441</td>\n",
              "    </tr>\n",
              "    <tr>\n",
              "      <th>2024-09-01</th>\n",
              "      <td>77625.736789</td>\n",
              "      <td>140443.087771</td>\n",
              "    </tr>\n",
              "    <tr>\n",
              "      <th>2024-10-01</th>\n",
              "      <td>77463.628854</td>\n",
              "      <td>143275.614226</td>\n",
              "    </tr>\n",
              "    <tr>\n",
              "      <th>2024-11-01</th>\n",
              "      <td>78266.099450</td>\n",
              "      <td>146942.393386</td>\n",
              "    </tr>\n",
              "    <tr>\n",
              "      <th>2024-12-01</th>\n",
              "      <td>77567.495469</td>\n",
              "      <td>148993.495499</td>\n",
              "    </tr>\n",
              "    <tr>\n",
              "      <th>2025-01-01</th>\n",
              "      <td>77838.803346</td>\n",
              "      <td>151898.122153</td>\n",
              "    </tr>\n",
              "  </tbody>\n",
              "</table>\n",
              "</div>"
            ],
            "text/plain": [
              "            lower TotalPet  upper TotalPet\n",
              "2022-01-01    84128.640185    92538.494618\n",
              "2022-02-01    85343.407914    93755.291786\n",
              "2022-03-01    85337.499479    93749.371327\n",
              "2022-04-01    86077.444965    94480.775931\n",
              "2022-05-01    86299.672434    94702.997526\n",
              "2022-06-01    86970.313465    95373.635875\n",
              "2022-07-01    88419.753817    96823.076213\n",
              "2022-08-01    88286.803531    96690.125925\n",
              "2022-09-01    88075.467283    99686.513677\n",
              "2022-10-01    87987.118485   101956.418327\n",
              "2022-11-01    88932.946849   104916.230069\n",
              "2022-12-01    88513.340592   106283.790705\n",
              "2023-01-01    88887.885021   108278.367972\n",
              "2023-02-01    88094.279303   108980.175164\n",
              "2023-03-01    87864.574891   110145.730400\n",
              "2023-04-01    85504.671996   109096.450248\n",
              "2023-05-01    85174.568732   110007.988591\n",
              "2023-06-01    85498.965667   111515.134209\n",
              "2023-07-01    85372.621250   112520.411205\n",
              "2023-08-01    84406.102984   115260.850372\n",
              "2023-09-01    83586.206076   117611.939716\n",
              "2023-10-01    83269.875449   120117.658557\n",
              "2023-11-01    83699.828602   123168.440734\n",
              "2023-12-01    83159.555151   125085.557570\n",
              "2024-01-01    83367.307156   127605.563176\n",
              "2024-02-01    82312.586692   128749.964948\n",
              "2024-03-01    81807.804953   130344.850802\n",
              "2024-04-01    80066.790857   130609.579160\n",
              "2024-05-01    79488.723390   131960.839530\n",
              "2024-06-01    79206.784143   133540.248343\n",
              "2024-07-01    79093.762673   135227.423369\n",
              "2024-08-01    78186.229334   137801.627441\n",
              "2024-09-01    77625.736789   140443.087771\n",
              "2024-10-01    77463.628854   143275.614226\n",
              "2024-11-01    78266.099450   146942.393386\n",
              "2024-12-01    77567.495469   148993.495499\n",
              "2025-01-01    77838.803346   151898.122153"
            ]
          },
          "execution_count": 118,
          "metadata": {},
          "output_type": "execute_result"
        }
      ],
      "source": [
        "#intervalo de confianza\n",
        "pred_IC = pred.conf_int()\n",
        "pred_IC"
      ]
    },
    {
      "cell_type": "code",
      "execution_count": 120,
      "metadata": {
        "colab": {
          "base_uri": "https://localhost:8080/",
          "height": 279
        },
        "id": "GywHE9lGX_PP",
        "outputId": "85e75760-919a-4116-8dce-0bc42b4cb26a"
      },
      "outputs": [
        {
          "data": {
            "image/png": "[encoded data removed]",
            "text/plain": [
              "<Figure size 720x288 with 1 Axes>"
            ]
          },
          "metadata": {
            "needs_background": "light"
          },
          "output_type": "display_data"
        }
      ],
      "source": [
        "fig = datos.loc['2019-01-01':,'TotalPet'].plot(label = 'Observaciones', \n",
        "                                           figsize =(10,4))\n",
        "pred.predicted_mean.plot(ax = fig, label = 'Prediciones')\n",
        "fig.fill_between(pred_IC.index, \n",
        "                 pred_IC.iloc[:,0], pred_IC.iloc[:,1], \n",
        "                 color='k', alpha=.2)\n",
        "plt.legend()\n",
        "plt.show()"
      ]
    },
    {
      "cell_type": "code",
      "execution_count": 121,
      "metadata": {
        "colab": {
          "base_uri": "https://localhost:8080/",
          "height": 291
        },
        "id": "0VJwLpU4n1_g",
        "outputId": "c9276aa7-1293-4185-9d14-7e69ce56130d"
      },
      "outputs": [
        {
          "data": {
            "image/png": "[encoded data removed]",
            "text/plain": [
              "<Figure size 720x288 with 1 Axes>"
            ]
          },
          "metadata": {
            "needs_background": "light"
          },
          "output_type": "display_data"
        }
      ],
      "source": [
        "fig = datos.loc['2009-01-01':,'TotalPet'].plot(label = 'Observaciones', \n",
        "                                           figsize =(10,4))\n",
        "pred.predicted_mean.plot(ax = fig, label = 'Prediciones')\n",
        "fig.fill_between(pred_IC.index, \n",
        "                 pred_IC.iloc[:,0], pred_IC.iloc[:,1], \n",
        "                 color='k', alpha=.2)\n",
        "plt.legend()\n",
        "plt.show()"
      ]
    },
    {
      "cell_type": "code",
      "execution_count": 122,
      "metadata": {
        "colab": {
          "base_uri": "https://localhost:8080/"
        },
        "id": "tNht4StbW1ij",
        "outputId": "2f8200eb-4df1-451e-fbd9-f90e911c3582"
      },
      "outputs": [
        {
          "name": "stdout",
          "output_type": "stream",
          "text": [
            "El error cuadrático medio es 374621.47\n",
            "La raiz del error cuadrático medio es 612.06\n"
          ]
        }
      ],
      "source": [
        "y_pred  = pred.predicted_mean\n",
        "y_real = datos.loc['2020-01-01':'2025-01-01','TotalPet']\n",
        "mse = ((y_pred - y_real) ** 2).mean()\n",
        "print('El error cuadrático medio es {}'.format(round(mse, 2)))\n",
        "print('La raiz del error cuadrático medio es {}'.format(round(np.sqrt(mse), 2)))"
      ]
    },
    {
      "cell_type": "code",
      "execution_count": 123,
      "metadata": {},
      "outputs": [
        {
          "name": "stdout",
          "output_type": "stream",
          "text": [
            "Porcentaje de error con respecto al promedio: 0.725 %\n"
          ]
        }
      ],
      "source": [
        "print(f\"Porcentaje de error con respecto al promedio: {round(100*np.sqrt(mse)/(datos['TotalPet'].mean()), 3)} %\")"
      ]
    }
  ],
  "metadata": {
    "colab": {
      "authorship_tag": "ABX9TyMBhousrprU+UP58oelh/yu",
      "collapsed_sections": [],
      "include_colab_link": true,
      "mount_file_id": "1p1x-7Aj_4Fl_sQlZYlvBnwWCPJXoHqes",
      "name": "Predicción producción electricidad_Feb22.ipynb",
      "provenance": [],
      "toc_visible": true
    },
    "kernelspec": {
      "display_name": "Python 3.10.5 64-bit",
      "language": "python",
      "name": "python3"
    },
    "language_info": {
      "codemirror_mode": {
        "name": "ipython",
        "version": 3
      },
      "file_extension": ".py",
      "mimetype": "text/x-python",
      "name": "python",
      "nbconvert_exporter": "python",
      "pygments_lexer": "ipython3",
      "version": "3.10.5"
    },
    "vscode": {
      "interpreter": {
        "hash": "de534543493c93dd74983ce351d5dc380ee4b042ff5b76a9a21948ad35ca9587"
      }
    }
  },
  "nbformat": 4,
  "nbformat_minor": 0
}
